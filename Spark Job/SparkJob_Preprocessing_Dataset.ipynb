{
 "cells": [
  {
   "cell_type": "code",
   "id": "initial_id",
   "metadata": {
    "collapsed": true,
    "ExecuteTime": {
     "end_time": "2025-08-30T08:59:02.492912Z",
     "start_time": "2025-08-30T08:59:02.447384Z"
    }
   },
   "source": [
    "import findspark\n",
    "findspark.init()\n",
    "\n",
    "import pyspark\n",
    "from pyspark.sql.types import FloatType, IntegerType, DateType\n",
    "\n",
    "from pyspark.sql import *\n",
    "from pyspark.sql import functions as sf\n",
    "from pyspark.sql.functions import col\n",
    "from pyspark.sql.functions import to_date"
   ],
   "outputs": [],
   "execution_count": 1
  },
  {
   "metadata": {
    "ExecuteTime": {
     "end_time": "2025-08-30T08:59:04.580914Z",
     "start_time": "2025-08-30T08:59:02.499536Z"
    }
   },
   "cell_type": "code",
   "source": [
    "sc = pyspark.SparkContext(appName=\"Preprocessing dataset\")\n",
    "spark = SparkSession(sc)"
   ],
   "id": "ecd31d4f6965f423",
   "outputs": [
    {
     "name": "stderr",
     "output_type": "stream",
     "text": [
      "25/08/30 10:59:03 WARN Utils: Your hostname, dsbda-vm resolves to a loopback address: 127.0.1.1; using 10.0.2.15 instead (on interface enp0s3)\n",
      "25/08/30 10:59:03 WARN Utils: Set SPARK_LOCAL_IP if you need to bind to another address\n",
      "Using Spark's default log4j profile: org/apache/spark/log4j-defaults.properties\n",
      "Setting default log level to \"WARN\".\n",
      "To adjust logging level use sc.setLogLevel(newLevel). For SparkR, use setLogLevel(newLevel).\n",
      "25/08/30 10:59:03 WARN NativeCodeLoader: Unable to load native-hadoop library for your platform... using builtin-java classes where applicable\n",
      "25/08/30 10:59:04 WARN Utils: Service 'SparkUI' could not bind on port 4040. Attempting port 4041.\n"
     ]
    }
   ],
   "execution_count": 2
  },
  {
   "metadata": {
    "ExecuteTime": {
     "end_time": "2025-08-30T08:59:07.233389Z",
     "start_time": "2025-08-30T08:59:04.818338Z"
    }
   },
   "cell_type": "code",
   "source": [
    "hdfs_path=\"hdfs://localhost:54310/user/ubuntu/dataset/\"\n",
    "schema=\"BookID string, Title string, Authors string, Avg_Rating string, ISBN string, ISBN13 string, Language_Code string, Num_Pages string, Ratings_Count string, Text_Reviews_Count string, Publication_Date string, Publisher string\"\n",
    "\n",
    "df = spark.read.csv(hdfs_path, header=False, inferSchema=False, sep=\",\", quote='', escape='', schema=schema)"
   ],
   "id": "4b2805bf94e7b616",
   "outputs": [],
   "execution_count": 3
  },
  {
   "metadata": {
    "ExecuteTime": {
     "end_time": "2025-08-30T08:59:07.284906Z",
     "start_time": "2025-08-30T08:59:07.251827Z"
    }
   },
   "cell_type": "code",
   "source": [
    "# Dropping uninformative columns\n",
    "df=df.drop(\"BookID\", \"ISBN\", \"Language_Code\")"
   ],
   "id": "2250ba8b4213326d",
   "outputs": [],
   "execution_count": 4
  },
  {
   "metadata": {
    "ExecuteTime": {
     "end_time": "2025-08-30T08:59:07.523976Z",
     "start_time": "2025-08-30T08:59:07.290199Z"
    }
   },
   "cell_type": "code",
   "source": [
    "# Preprocessing\n",
    "df = df.select([sf.regexp_replace(c, r'\\\\|\\[|\\]|\\\"', '').alias(c) for c in df.columns])\n",
    "df = df.select([sf.regexp_replace(c, r'^ \\'|\\'$|', '').alias(c) for c in df.columns])"
   ],
   "id": "d6cbf229843fd379",
   "outputs": [],
   "execution_count": 5
  },
  {
   "metadata": {
    "ExecuteTime": {
     "end_time": "2025-08-30T08:59:07.624843Z",
     "start_time": "2025-08-30T08:59:07.530359Z"
    }
   },
   "cell_type": "code",
   "source": [
    "# Casting column types\n",
    "df = df.withColumn(\"Avg_Rating\", col(\"Avg_Rating\").cast(FloatType())).withColumn(\"Num_Pages\", col(\"Num_Pages\").cast(IntegerType())).withColumn(\"Ratings_Count\", col(\"Ratings_Count\").cast(IntegerType())).withColumn(\"Text_Reviews_Count\", col(\"Text_Reviews_Count\").cast(IntegerType()))\n",
    "\n",
    "df = df.withColumn(\"Pub_Date\",\n",
    "  sf.coalesce(\n",
    "    to_date(col(\"Publication_Date\"), \"M/d/yyyy\"),\n",
    "    to_date(col(\"Publication_Date\"), \"MM/d/yyyy\"),\n",
    "    to_date(col(\"Publication_Date\"), \"M/dd/yyyy\"),\n",
    "    to_date(col(\"Publication_Date\"), \"MM/dd/yyyy\"),\n",
    "  ).alias(\"Pub_Date\"),\n",
    ")\n",
    "\n",
    "df = df.drop(\"Publication_Date\")"
   ],
   "id": "32a604bbbb164b23",
   "outputs": [],
   "execution_count": 6
  },
  {
   "metadata": {
    "ExecuteTime": {
     "end_time": "2025-08-30T08:59:09.366112Z",
     "start_time": "2025-08-30T08:59:07.632633Z"
    }
   },
   "cell_type": "code",
   "source": "df.show()",
   "id": "3677bc2e4e59b409",
   "outputs": [
    {
     "name": "stdout",
     "output_type": "stream",
     "text": [
      "+--------------------+--------------------+----------+-------------+---------+-------------+------------------+--------------------+----------+\n",
      "|               Title|             Authors|Avg_Rating|       ISBN13|Num_Pages|Ratings_Count|Text_Reviews_Count|           Publisher|  Pub_Date|\n",
      "+--------------------+--------------------+----------+-------------+---------+-------------+------------------+--------------------+----------+\n",
      "|Good Poems for Ha...|Garrison Keillor/...|      4.14|9780143037675|      344|         2662|               214|       Penguin Books|2006-08-29|\n",
      "|Baseball: a Liter...|Nicholas Dawidoff...|      4.24|9781931082099|      733|          182|                14|  Library of America|2002-03-04|\n",
      "|Plato: Complete W...|Plato/John M. Coo...|      4.35|9780872203495|     1838|         9284|               133|Hackett Publishin...|1997-05-01|\n",
      "|The Mammoth Book ...|Mike Ashley/Eric ...|      3.63|9780786714957|      498|           28|                 4|       Running Press|2005-02-15|\n",
      "|Thriller: Stories...|James Patterson/T...|       3.5|9780778322993|      568|         2427|               208|          Mira Books|2006-05-30|\n",
      "|Masterpieces: The...|Orson Scott Card/...|      4.21|9780441011339|      422|         1202|                79|           Ace Books|2004-03-02|\n",
      "| Yours in Food  J...| John Baldessari/...|       4.0|9781568984957|      144|           19|                 4|Princeton Archite...|2004-09-30|\n",
      "|Modern Classics o...|Gardner Dozois/Da...|      4.17|9780312088477|      672|           91|                 6| St. Martin's Gri...|1993-01-15|\n",
      "| The Anthology at...|Glenn Yeffeth/Don...|      3.86|9781932100563|      240|          129|                10|          Smart Pop'|2005-03-11|\n",
      "|The Best American...|Harvey Pekar/Anne...|      3.87|9780618718740|      293|         1502|               124|    Houghton Mifflin|2006-10-01|\n",
      "|Everything I Need...| Jennifer O'Conne...|      3.47|9781416531043|      275|         1750|               323|       Pocket Books'|2007-06-05|\n",
      "|The Flying Sorcer...|Peter Haining/Roa...|      3.99|9781857237252|      383|         2226|                19|               Orbit|1999-02-04|\n",
      "|A Portrait of the...|James Joyce/Walte...|      3.61|9780393926798|      490|          359|                35|W. W. Norton & Co...|2007-05-01|\n",
      "| A Magic-Lover's ...|Margaret Weis/Urs...|      3.58|9780446672849|      421|          132|                 4|             Aspect'|1998-01-01|\n",
      "|The Medusa in the...| David G. Hartwel...|      3.88|9780812509663|      498|           49|                 6|          Tor Books'|1991-11-15|\n",
      "|Irish Girls Are B...| Cecelia Ahern/Pa...|      3.74|9780743499262|      384|          805|                36|      Gallery Books'|2005-03-01|\n",
      "|Key Topics in Con...|David W. Macdonal...|      3.33|9781405122498|      307|            3|                 0|     Wiley-Blackwell|2006-01-01|\n",
      "|Tales Before Tolk...|Douglas A. Anders...|      3.93|9780345458568|      528|         1130|                42|             Del Rey|2005-11-29|\n",
      "|Interfictions: An...|Delia Sherman/The...|      3.77|9781931520249|      291|          229|                20|    Small Beer Press|2007-04-01|\n",
      "|Children Playing ...| David Sedaris/Ri...|      3.68|9780743276122|      344|         6490|               463|   Simon & Schuster'|2005-08-01|\n",
      "+--------------------+--------------------+----------+-------------+---------+-------------+------------------+--------------------+----------+\n",
      "only showing top 20 rows\n",
      "\n"
     ]
    }
   ],
   "execution_count": 7
  },
  {
   "metadata": {
    "ExecuteTime": {
     "end_time": "2025-08-30T08:59:09.620528Z",
     "start_time": "2025-08-30T08:59:09.440889Z"
    }
   },
   "cell_type": "code",
   "source": [
    "# Saving Preprocessed dataset on hfds\n",
    "hdfs_path_out=\"hdfs://localhost:54310/user/ubuntu/dataset_preprocessed/\"\n",
    "df.write.csv(hdfs_path_out, header=False)"
   ],
   "id": "d30cdebfeb0e4a2a",
   "outputs": [
    {
     "ename": "AnalysisException",
     "evalue": "path hdfs://localhost:54310/user/ubuntu/dataset_preprocessed already exists.",
     "output_type": "error",
     "traceback": [
      "\u001B[0;31m---------------------------------------------------------------------------\u001B[0m",
      "\u001B[0;31mAnalysisException\u001B[0m                         Traceback (most recent call last)",
      "Cell \u001B[0;32mIn[8], line 3\u001B[0m\n\u001B[1;32m      1\u001B[0m \u001B[38;5;66;03m# Saving Preprocessed dataset on hfds\u001B[39;00m\n\u001B[1;32m      2\u001B[0m hdfs_path_out\u001B[38;5;241m=\u001B[39m\u001B[38;5;124m\"\u001B[39m\u001B[38;5;124mhdfs://localhost:54310/user/ubuntu/dataset_preprocessed/\u001B[39m\u001B[38;5;124m\"\u001B[39m\n\u001B[0;32m----> 3\u001B[0m \u001B[43mdf\u001B[49m\u001B[38;5;241;43m.\u001B[39;49m\u001B[43mwrite\u001B[49m\u001B[38;5;241;43m.\u001B[39;49m\u001B[43mcsv\u001B[49m\u001B[43m(\u001B[49m\u001B[43mhdfs_path_out\u001B[49m\u001B[43m,\u001B[49m\u001B[43m \u001B[49m\u001B[43mheader\u001B[49m\u001B[38;5;241;43m=\u001B[39;49m\u001B[38;5;28;43;01mFalse\u001B[39;49;00m\u001B[43m)\u001B[49m\n",
      "File \u001B[0;32m/usr/local/spark/python/pyspark/sql/readwriter.py:955\u001B[0m, in \u001B[0;36mDataFrameWriter.csv\u001B[0;34m(self, path, mode, compression, sep, quote, escape, header, nullValue, escapeQuotes, quoteAll, dateFormat, timestampFormat, ignoreLeadingWhiteSpace, ignoreTrailingWhiteSpace, charToEscapeQuoteEscaping, encoding, emptyValue, lineSep)\u001B[0m\n\u001B[1;32m    947\u001B[0m \u001B[38;5;28mself\u001B[39m\u001B[38;5;241m.\u001B[39mmode(mode)\n\u001B[1;32m    948\u001B[0m \u001B[38;5;28mself\u001B[39m\u001B[38;5;241m.\u001B[39m_set_opts(compression\u001B[38;5;241m=\u001B[39mcompression, sep\u001B[38;5;241m=\u001B[39msep, quote\u001B[38;5;241m=\u001B[39mquote, escape\u001B[38;5;241m=\u001B[39mescape, header\u001B[38;5;241m=\u001B[39mheader,\n\u001B[1;32m    949\u001B[0m                nullValue\u001B[38;5;241m=\u001B[39mnullValue, escapeQuotes\u001B[38;5;241m=\u001B[39mescapeQuotes, quoteAll\u001B[38;5;241m=\u001B[39mquoteAll,\n\u001B[1;32m    950\u001B[0m                dateFormat\u001B[38;5;241m=\u001B[39mdateFormat, timestampFormat\u001B[38;5;241m=\u001B[39mtimestampFormat,\n\u001B[0;32m   (...)\u001B[0m\n\u001B[1;32m    953\u001B[0m                charToEscapeQuoteEscaping\u001B[38;5;241m=\u001B[39mcharToEscapeQuoteEscaping,\n\u001B[1;32m    954\u001B[0m                encoding\u001B[38;5;241m=\u001B[39mencoding, emptyValue\u001B[38;5;241m=\u001B[39memptyValue, lineSep\u001B[38;5;241m=\u001B[39mlineSep)\n\u001B[0;32m--> 955\u001B[0m \u001B[38;5;28;43mself\u001B[39;49m\u001B[38;5;241;43m.\u001B[39;49m\u001B[43m_jwrite\u001B[49m\u001B[38;5;241;43m.\u001B[39;49m\u001B[43mcsv\u001B[49m\u001B[43m(\u001B[49m\u001B[43mpath\u001B[49m\u001B[43m)\u001B[49m\n",
      "File \u001B[0;32m/usr/local/spark/python/lib/py4j-0.10.9.3-src.zip/py4j/java_gateway.py:1321\u001B[0m, in \u001B[0;36mJavaMember.__call__\u001B[0;34m(self, *args)\u001B[0m\n\u001B[1;32m   1315\u001B[0m command \u001B[38;5;241m=\u001B[39m proto\u001B[38;5;241m.\u001B[39mCALL_COMMAND_NAME \u001B[38;5;241m+\u001B[39m\\\n\u001B[1;32m   1316\u001B[0m     \u001B[38;5;28mself\u001B[39m\u001B[38;5;241m.\u001B[39mcommand_header \u001B[38;5;241m+\u001B[39m\\\n\u001B[1;32m   1317\u001B[0m     args_command \u001B[38;5;241m+\u001B[39m\\\n\u001B[1;32m   1318\u001B[0m     proto\u001B[38;5;241m.\u001B[39mEND_COMMAND_PART\n\u001B[1;32m   1320\u001B[0m answer \u001B[38;5;241m=\u001B[39m \u001B[38;5;28mself\u001B[39m\u001B[38;5;241m.\u001B[39mgateway_client\u001B[38;5;241m.\u001B[39msend_command(command)\n\u001B[0;32m-> 1321\u001B[0m return_value \u001B[38;5;241m=\u001B[39m \u001B[43mget_return_value\u001B[49m\u001B[43m(\u001B[49m\n\u001B[1;32m   1322\u001B[0m \u001B[43m    \u001B[49m\u001B[43manswer\u001B[49m\u001B[43m,\u001B[49m\u001B[43m \u001B[49m\u001B[38;5;28;43mself\u001B[39;49m\u001B[38;5;241;43m.\u001B[39;49m\u001B[43mgateway_client\u001B[49m\u001B[43m,\u001B[49m\u001B[43m \u001B[49m\u001B[38;5;28;43mself\u001B[39;49m\u001B[38;5;241;43m.\u001B[39;49m\u001B[43mtarget_id\u001B[49m\u001B[43m,\u001B[49m\u001B[43m \u001B[49m\u001B[38;5;28;43mself\u001B[39;49m\u001B[38;5;241;43m.\u001B[39;49m\u001B[43mname\u001B[49m\u001B[43m)\u001B[49m\n\u001B[1;32m   1324\u001B[0m \u001B[38;5;28;01mfor\u001B[39;00m temp_arg \u001B[38;5;129;01min\u001B[39;00m temp_args:\n\u001B[1;32m   1325\u001B[0m     temp_arg\u001B[38;5;241m.\u001B[39m_detach()\n",
      "File \u001B[0;32m/usr/local/spark/python/pyspark/sql/utils.py:117\u001B[0m, in \u001B[0;36mcapture_sql_exception.<locals>.deco\u001B[0;34m(*a, **kw)\u001B[0m\n\u001B[1;32m    113\u001B[0m converted \u001B[38;5;241m=\u001B[39m convert_exception(e\u001B[38;5;241m.\u001B[39mjava_exception)\n\u001B[1;32m    114\u001B[0m \u001B[38;5;28;01mif\u001B[39;00m \u001B[38;5;129;01mnot\u001B[39;00m \u001B[38;5;28misinstance\u001B[39m(converted, UnknownException):\n\u001B[1;32m    115\u001B[0m     \u001B[38;5;66;03m# Hide where the exception came from that shows a non-Pythonic\u001B[39;00m\n\u001B[1;32m    116\u001B[0m     \u001B[38;5;66;03m# JVM exception message.\u001B[39;00m\n\u001B[0;32m--> 117\u001B[0m     \u001B[38;5;28;01mraise\u001B[39;00m converted \u001B[38;5;28;01mfrom\u001B[39;00m\u001B[38;5;250m \u001B[39m\u001B[38;5;28;01mNone\u001B[39;00m\n\u001B[1;32m    118\u001B[0m \u001B[38;5;28;01melse\u001B[39;00m:\n\u001B[1;32m    119\u001B[0m     \u001B[38;5;28;01mraise\u001B[39;00m\n",
      "\u001B[0;31mAnalysisException\u001B[0m: path hdfs://localhost:54310/user/ubuntu/dataset_preprocessed already exists."
     ]
    }
   ],
   "execution_count": 8
  },
  {
   "metadata": {
    "ExecuteTime": {
     "end_time": "2025-08-30T08:59:32.560932Z",
     "start_time": "2025-08-30T08:59:32.466409Z"
    }
   },
   "cell_type": "code",
   "source": "spark.stop()",
   "id": "89bf8aa7ffd5613b",
   "outputs": [],
   "execution_count": 9
  }
 ],
 "metadata": {
  "kernelspec": {
   "display_name": "Python 3",
   "language": "python",
   "name": "python3"
  },
  "language_info": {
   "codemirror_mode": {
    "name": "ipython",
    "version": 2
   },
   "file_extension": ".py",
   "mimetype": "text/x-python",
   "name": "python",
   "nbconvert_exporter": "python",
   "pygments_lexer": "ipython2",
   "version": "2.7.6"
  }
 },
 "nbformat": 4,
 "nbformat_minor": 5
}
