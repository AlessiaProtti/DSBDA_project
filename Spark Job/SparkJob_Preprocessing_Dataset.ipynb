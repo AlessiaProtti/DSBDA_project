{
 "cells": [
  {
   "cell_type": "code",
   "id": "initial_id",
   "metadata": {
    "collapsed": true,
    "ExecuteTime": {
     "end_time": "2025-08-24T08:47:05.705112Z",
     "start_time": "2025-08-24T08:47:05.589835Z"
    }
   },
   "source": [
    "import findspark\n",
    "findspark.init()\n",
    "\n",
    "import pyspark\n",
    "from pyspark.sql.types import FloatType, IntegerType, DateType\n",
    "\n",
    "from pyspark.sql import *\n",
    "from pyspark.sql import functions as sf\n",
    "from pyspark.sql.functions import col\n",
    "from pyspark.sql.functions import to_date"
   ],
   "outputs": [],
   "execution_count": 1
  },
  {
   "metadata": {
    "ExecuteTime": {
     "end_time": "2025-08-24T08:47:08.967554Z",
     "start_time": "2025-08-24T08:47:05.721572Z"
    }
   },
   "cell_type": "code",
   "source": [
    "sc = pyspark.SparkContext(appName=\"Preprocessing dataset\")\n",
    "spark = SparkSession(sc)"
   ],
   "id": "ecd31d4f6965f423",
   "outputs": [
    {
     "name": "stderr",
     "output_type": "stream",
     "text": [
      "25/08/24 10:47:07 WARN Utils: Your hostname, dsbda-vm resolves to a loopback address: 127.0.1.1; using 10.0.2.15 instead (on interface enp0s3)\n",
      "25/08/24 10:47:07 WARN Utils: Set SPARK_LOCAL_IP if you need to bind to another address\n",
      "Using Spark's default log4j profile: org/apache/spark/log4j-defaults.properties\n",
      "Setting default log level to \"WARN\".\n",
      "To adjust logging level use sc.setLogLevel(newLevel). For SparkR, use setLogLevel(newLevel).\n",
      "25/08/24 10:47:07 WARN NativeCodeLoader: Unable to load native-hadoop library for your platform... using builtin-java classes where applicable\n"
     ]
    }
   ],
   "execution_count": 2
  },
  {
   "metadata": {
    "ExecuteTime": {
     "end_time": "2025-08-24T08:47:11.895275Z",
     "start_time": "2025-08-24T08:47:08.995295Z"
    }
   },
   "cell_type": "code",
   "source": [
    "hdfs_path=\"hdfs://localhost:54310/user/ubuntu/dataset/\"\n",
    "schema=\"BookID string, Title string, Authors string, Avg_Rating string, ISBN string, ISBN13 string, Language_Code string, Num_Pages string, Ratings_Count string, Text_Reviews_Count string, Publication_Date string, Publisher string\"\n",
    "\n",
    "df = spark.read.csv(hdfs_path, header=False, inferSchema=False, sep=\",\", quote='', escape='', schema=schema)"
   ],
   "id": "4b2805bf94e7b616",
   "outputs": [],
   "execution_count": 3
  },
  {
   "metadata": {
    "ExecuteTime": {
     "end_time": "2025-08-24T08:47:11.959428Z",
     "start_time": "2025-08-24T08:47:11.918292Z"
    }
   },
   "cell_type": "code",
   "source": [
    "# Dropping uninformative columns\n",
    "df=df.drop(\"BookID\", \"ISBN\", \"Language_Code\")"
   ],
   "id": "2250ba8b4213326d",
   "outputs": [],
   "execution_count": 4
  },
  {
   "metadata": {
    "ExecuteTime": {
     "end_time": "2025-08-24T08:47:12.203822Z",
     "start_time": "2025-08-24T08:47:11.965295Z"
    }
   },
   "cell_type": "code",
   "source": [
    "# Preprocessing\n",
    "df = df.select([sf.regexp_replace(c, r'\\\\|\\[|\\]|\\\"', '').alias(c) for c in df.columns])\n",
    "df = df.select([sf.regexp_replace(c, r'^ \\'|\\'$|', '').alias(c) for c in df.columns])"
   ],
   "id": "d6cbf229843fd379",
   "outputs": [],
   "execution_count": 5
  },
  {
   "metadata": {
    "ExecuteTime": {
     "end_time": "2025-08-24T08:47:12.299852Z",
     "start_time": "2025-08-24T08:47:12.209115Z"
    }
   },
   "cell_type": "code",
   "source": [
    "# Casting column types\n",
    "df = df.withColumn(\"Avg_Rating\", col(\"Avg_Rating\").cast(FloatType())).withColumn(\"Num_Pages\", col(\"Num_Pages\").cast(IntegerType())).withColumn(\"Ratings_Count\", col(\"Ratings_Count\").cast(IntegerType())).withColumn(\"Text_Reviews_Count\", col(\"Text_Reviews_Count\").cast(IntegerType()))\n",
    "\n",
    "df = df.withColumn(\"Pub_Date\",\n",
    "  sf.coalesce(\n",
    "    to_date(col(\"Publication_Date\"), \"M/d/yyyy\"),\n",
    "    to_date(col(\"Publication_Date\"), \"MM/d/yyyy\"),\n",
    "    to_date(col(\"Publication_Date\"), \"M/dd/yyyy\"),\n",
    "    to_date(col(\"Publication_Date\"), \"MM/dd/yyyy\"),\n",
    "  ).alias(\"Pub_Date\"),\n",
    ")\n",
    "\n",
    "df = df.drop(\"Publication_Date\")"
   ],
   "id": "32a604bbbb164b23",
   "outputs": [],
   "execution_count": 6
  },
  {
   "metadata": {
    "ExecuteTime": {
     "end_time": "2025-08-24T08:47:14.218418Z",
     "start_time": "2025-08-24T08:47:12.308411Z"
    }
   },
   "cell_type": "code",
   "source": "df.show()",
   "id": "3677bc2e4e59b409",
   "outputs": [
    {
     "name": "stdout",
     "output_type": "stream",
     "text": [
      "+--------------------+--------------------+----------+-------------+---------+-------------+------------------+--------------------+----------+\n",
      "|               Title|             Authors|Avg_Rating|       ISBN13|Num_Pages|Ratings_Count|Text_Reviews_Count|           Publisher|  Pub_Date|\n",
      "+--------------------+--------------------+----------+-------------+---------+-------------+------------------+--------------------+----------+\n",
      "|Good Poems for Ha...|Garrison Keillor/...|      4.14|9780143037675|      344|         2662|               214|       Penguin Books|2006-08-29|\n",
      "|Baseball: a Liter...|Nicholas Dawidoff...|      4.24|9781931082099|      733|          182|                14|  Library of America|2002-03-04|\n",
      "|Plato: Complete W...|Plato/John M. Coo...|      4.35|9780872203495|     1838|         9284|               133|Hackett Publishin...|1997-05-01|\n",
      "|The Mammoth Book ...|Mike Ashley/Eric ...|      3.63|9780786714957|      498|           28|                 4|       Running Press|2005-02-15|\n",
      "|Thriller: Stories...|James Patterson/T...|       3.5|9780778322993|      568|         2427|               208|          Mira Books|2006-05-30|\n",
      "|Masterpieces: The...|Orson Scott Card/...|      4.21|9780441011339|      422|         1202|                79|           Ace Books|2004-03-02|\n",
      "| Yours in Food  J...| John Baldessari/...|       4.0|9781568984957|      144|           19|                 4|Princeton Archite...|2004-09-30|\n",
      "|Modern Classics o...|Gardner Dozois/Da...|      4.17|9780312088477|      672|           91|                 6| St. Martin's Gri...|1993-01-15|\n",
      "| The Anthology at...|Glenn Yeffeth/Don...|      3.86|9781932100563|      240|          129|                10|          Smart Pop'|2005-03-11|\n",
      "|The Best American...|Harvey Pekar/Anne...|      3.87|9780618718740|      293|         1502|               124|    Houghton Mifflin|2006-10-01|\n",
      "|Everything I Need...| Jennifer O'Conne...|      3.47|9781416531043|      275|         1750|               323|       Pocket Books'|2007-06-05|\n",
      "|The Flying Sorcer...|Peter Haining/Roa...|      3.99|9781857237252|      383|         2226|                19|               Orbit|1999-02-04|\n",
      "|A Portrait of the...|James Joyce/Walte...|      3.61|9780393926798|      490|          359|                35|W. W. Norton & Co...|2007-05-01|\n",
      "| A Magic-Lover's ...|Margaret Weis/Urs...|      3.58|9780446672849|      421|          132|                 4|             Aspect'|1998-01-01|\n",
      "|The Medusa in the...| David G. Hartwel...|      3.88|9780812509663|      498|           49|                 6|          Tor Books'|1991-11-15|\n",
      "|Irish Girls Are B...| Cecelia Ahern/Pa...|      3.74|9780743499262|      384|          805|                36|      Gallery Books'|2005-03-01|\n",
      "|Key Topics in Con...|David W. Macdonal...|      3.33|9781405122498|      307|            3|                 0|     Wiley-Blackwell|2006-01-01|\n",
      "|Tales Before Tolk...|Douglas A. Anders...|      3.93|9780345458568|      528|         1130|                42|             Del Rey|2005-11-29|\n",
      "|Interfictions: An...|Delia Sherman/The...|      3.77|9781931520249|      291|          229|                20|    Small Beer Press|2007-04-01|\n",
      "|Children Playing ...| David Sedaris/Ri...|      3.68|9780743276122|      344|         6490|               463|   Simon & Schuster'|2005-08-01|\n",
      "+--------------------+--------------------+----------+-------------+---------+-------------+------------------+--------------------+----------+\n",
      "only showing top 20 rows\n",
      "\n"
     ]
    },
    {
     "name": "stderr",
     "output_type": "stream",
     "text": [
      "                                                                                \r"
     ]
    }
   ],
   "execution_count": 7
  },
  {
   "metadata": {
    "ExecuteTime": {
     "end_time": "2025-08-24T08:47:41.855049Z",
     "start_time": "2025-08-24T08:47:14.310883Z"
    }
   },
   "cell_type": "code",
   "source": [
    "# Saving Preprocessed dataset on hfds\n",
    "hdfs_path_out=\"hdfs://localhost:54310/user/ubuntu/dataset_preprocessed/\"\n",
    "df.write.csv(hdfs_path_out, header=False)"
   ],
   "id": "d30cdebfeb0e4a2a",
   "outputs": [
    {
     "name": "stderr",
     "output_type": "stream",
     "text": [
      "                                                                                \r"
     ]
    }
   ],
   "execution_count": 8
  },
  {
   "metadata": {
    "ExecuteTime": {
     "end_time": "2025-08-24T08:47:42.420577Z",
     "start_time": "2025-08-24T08:47:41.899618Z"
    }
   },
   "cell_type": "code",
   "source": "spark.stop()",
   "id": "89bf8aa7ffd5613b",
   "outputs": [],
   "execution_count": 9
  }
 ],
 "metadata": {
  "kernelspec": {
   "display_name": "Python 3",
   "language": "python",
   "name": "python3"
  },
  "language_info": {
   "codemirror_mode": {
    "name": "ipython",
    "version": 2
   },
   "file_extension": ".py",
   "mimetype": "text/x-python",
   "name": "python",
   "nbconvert_exporter": "python",
   "pygments_lexer": "ipython2",
   "version": "2.7.6"
  }
 },
 "nbformat": 4,
 "nbformat_minor": 5
}
