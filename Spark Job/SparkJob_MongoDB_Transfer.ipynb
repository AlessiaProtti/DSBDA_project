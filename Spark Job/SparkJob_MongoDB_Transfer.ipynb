{
 "cells": [
  {
   "metadata": {},
   "cell_type": "markdown",
   "source": [
    "# MongoDB sample\n",
    "\n",
    "In this notebook we take a sample of our preprocessed joint dataset, and we put it in the MongoDB db through a SparkJob."
   ],
   "id": "66fe40f42539c426"
  },
  {
   "metadata": {},
   "cell_type": "code",
   "source": [
    "import findspark\n",
    "\n",
    "findspark.init()\n",
    "\n",
    "import pyspark\n",
    "from pyspark.sql import *\n",
    "from pyspark.sql import functions as sf\n",
    "import pymongo"
   ],
   "id": "85639d53c43e82b5",
   "outputs": [],
   "execution_count": null
  },
  {
   "metadata": {},
   "cell_type": "code",
   "source": [
    "sc = pyspark.SparkContext(appName=\"MongoDB injection\")\n",
    "spark = SparkSession(sc)"
   ],
   "id": "b85db62883c628e2",
   "outputs": [],
   "execution_count": null
  },
  {
   "metadata": {},
   "cell_type": "markdown",
   "source": [
    "## Load the dataset in Spark\n",
    "\n",
    "After loading the dataset we also take a sample that will be then saved in MongoDB."
   ],
   "id": "fba02d16d49a4536"
  },
  {
   "metadata": {},
   "cell_type": "code",
   "source": [
    "hdfs_path = \"hdfs://localhost:54310/user/ubuntu/map_reduce/joint_dataset/\"\n",
    "schema = \"Title string, Counter string, Authors string, Avg_Rating string, Num_Pages string, Ratings_Count string, Text_Reviews_Count string, Publisher string, Publication_Date string\"\n",
    "\n",
    "df = spark.read.csv(hdfs_path, header=False, inferSchema=False, sep=\"\\t\", quote='', escape='', schema=schema)\n",
    "df = df.select([sf.regexp_replace(c, r'\\\\|\\[|\\]|\\\"', '').alias(c) for c in df.columns])"
   ],
   "id": "7297de30a5db16b6",
   "outputs": [],
   "execution_count": null
  },
  {
   "metadata": {},
   "cell_type": "code",
   "source": [
    "df_pandas = df.sample(1.0).toPandas()\n",
    "\n",
    "df_obj = df_pandas.select_dtypes('object')\n",
    "df_pandas[df_obj.columns] = df_obj.apply(lambda x:x.str.strip())\n",
    "\n",
    "df_pandas[\"Avg_Rating\"] = df_pandas[\"Avg_Rating\"].replace('', '0')\n",
    "df_pandas[\"Num_Pages\"] = df_pandas[\"Num_Pages\"].replace('', '0')\n",
    "\n",
    "df_pandas= df_pandas.astype({\"Title\": 'string', \"Counter\": 'int', \"Authors\": 'string', \"Avg_Rating\": 'float', \"Num_Pages\": 'int', \"Ratings_Count\": 'int', \"Text_Reviews_Count\": 'int', \"Publisher\": 'string', \"Publication_Date\": 'string'})\n",
    "\n",
    "print(df_pandas.dtypes)\n",
    "\n",
    "df_pandas.head()"
   ],
   "id": "585c06e6581f05fa",
   "outputs": [],
   "execution_count": null
  },
  {
   "metadata": {},
   "cell_type": "markdown",
   "source": [
    "## Connection and insertion of documents\n",
    "\n",
    "In this section we connect to the MongoDB instance and afterward we insert the documents."
   ],
   "id": "38f887a986768c83"
  },
  {
   "metadata": {},
   "cell_type": "code",
   "source": [
    "import reprlib\n",
    "from pprint import pprint\n",
    "import json\n",
    "\n",
    "r=reprlib.Repr()\n",
    "r.maxlist=100\n",
    "r.maxstring=10000\n",
    "r.maxdict=1000\n",
    "\n",
    "my_client = pymongo.MongoClient(\"mongodb://localhost:27017/\")\n",
    "my_db = my_client[\"goodreads_db\"]\n",
    "my_collection = my_db[\"books\"]\n",
    "my_dictionary= df_pandas.to_dict(orient='records')\n",
    "\n",
    "json_str=json.dumps(my_dictionary, ensure_ascii=False)\n",
    "pprint(r.repr(json_str))\n",
    "\n",
    "json_obj=json.loads(json_str)\n",
    "pprint(r.repr(json_obj))\n",
    "\n",
    "result = my_collection.insert_many(json_obj)"
   ],
   "id": "9711b0ac6afd5703",
   "outputs": [],
   "execution_count": null
  },
  {
   "metadata": {},
   "cell_type": "code",
   "source": "sc.stop()",
   "id": "dd62be90990aff22",
   "outputs": [],
   "execution_count": null
  }
 ],
 "metadata": {
  "kernelspec": {
   "display_name": "Python 3",
   "language": "python",
   "name": "python3"
  },
  "language_info": {
   "codemirror_mode": {
    "name": "ipython",
    "version": 2
   },
   "file_extension": ".py",
   "mimetype": "text/x-python",
   "name": "python",
   "nbconvert_exporter": "python",
   "pygments_lexer": "ipython2",
   "version": "2.7.6"
  }
 },
 "nbformat": 4,
 "nbformat_minor": 5
}
