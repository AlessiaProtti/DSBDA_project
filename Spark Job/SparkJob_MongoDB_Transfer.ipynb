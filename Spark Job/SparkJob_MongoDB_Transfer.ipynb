{
 "cells": [
  {
   "metadata": {
    "ExecuteTime": {
     "end_time": "2025-08-25T16:21:48.249994Z",
     "start_time": "2025-08-25T16:21:48.244782Z"
    }
   },
   "cell_type": "code",
   "source": [
    "import findspark\n",
    "findspark.init()\n",
    "\n",
    "import pyspark\n",
    "from pyspark.sql import *\n",
    "import pymongo"
   ],
   "id": "e33874c66b7fc85d",
   "outputs": [],
   "execution_count": 14
  },
  {
   "metadata": {
    "ExecuteTime": {
     "end_time": "2025-08-25T16:21:48.427804Z",
     "start_time": "2025-08-25T16:21:48.257365Z"
    }
   },
   "cell_type": "code",
   "source": [
    "sc = pyspark.SparkContext(appName=\"MongoDB injection\")\n",
    "spark = SparkSession(sc)"
   ],
   "id": "b85db62883c628e2",
   "outputs": [],
   "execution_count": 15
  },
  {
   "metadata": {
    "ExecuteTime": {
     "end_time": "2025-08-25T16:21:48.484606Z",
     "start_time": "2025-08-25T16:21:48.434656Z"
    }
   },
   "cell_type": "code",
   "source": [
    "hdfs_path = \"hdfs://localhost:54310/user/ubuntu/map_reduce/joint_dataset/\"\n",
    "schema = \"Title string, Counter string, Authors string, Avg_Rating string, ISBN13 string, Num_Pages string, Ratings_Count string, Text_Reviews_Count string, Publisher string, Publication_Date string\"\n",
    "\n",
    "df = spark.read.csv(hdfs_path, header=False, inferSchema=False, sep=\"\\t\", quote='', escape='', schema=schema)"
   ],
   "id": "7297de30a5db16b6",
   "outputs": [],
   "execution_count": 16
  },
  {
   "metadata": {
    "ExecuteTime": {
     "end_time": "2025-08-25T16:21:48.884201Z",
     "start_time": "2025-08-25T16:21:48.495314Z"
    }
   },
   "cell_type": "code",
   "source": [
    "df_pandas = df.sample(1.0).toPandas()\n",
    "df_pandas.head()"
   ],
   "id": "585c06e6581f05fa",
   "outputs": [
    {
     "data": {
      "text/plain": [
       "                                               Title Counter  \\\n",
       "0  $30 film school: how to write  direct  produce...       1   \n",
       "1                 1 000 places to see before you die       1   \n",
       "2                                      10 lb penalty       1   \n",
       "3              100 great fantasy short short stories       1   \n",
       "4                                   100 love sonnets       1   \n",
       "\n",
       "                                             Authors Avg_Rating  \\\n",
       "0                                   Michael W. Dean       3.49    \n",
       "1                                  Patricia Schultz       3.85    \n",
       "2                                      Dick Francis        3.9    \n",
       "3   Isaac Asimov/Terry Carr/Martin H. Greenberg/J...      3.91    \n",
       "4                     Pablo Neruda/Stephen Tapscott       4.39    \n",
       "\n",
       "            ISBN13 Num_Pages Ratings_Count Text_Reviews_Count  \\\n",
       "0   9781592000678       528            30                  4    \n",
       "1   9780761104841       992         36303                439    \n",
       "2   9780425197455       320          3490                177    \n",
       "3   9780380699179       395           204                 19    \n",
       "4   9780292760288       232         12613                392    \n",
       "\n",
       "                      Publisher Publication_Date  \n",
       "0             Cengage Learning       2003-05-13   \n",
       "1   Workman Publishing Company       2003-05-22   \n",
       "2           G.P. Putnam's Sons       2004-08-03   \n",
       "3                         Avon       1985-08-01   \n",
       "4    University of Texas Press       1986-01-01   "
      ],
      "text/html": [
       "<div>\n",
       "<style scoped>\n",
       "    .dataframe tbody tr th:only-of-type {\n",
       "        vertical-align: middle;\n",
       "    }\n",
       "\n",
       "    .dataframe tbody tr th {\n",
       "        vertical-align: top;\n",
       "    }\n",
       "\n",
       "    .dataframe thead th {\n",
       "        text-align: right;\n",
       "    }\n",
       "</style>\n",
       "<table border=\"1\" class=\"dataframe\">\n",
       "  <thead>\n",
       "    <tr style=\"text-align: right;\">\n",
       "      <th></th>\n",
       "      <th>Title</th>\n",
       "      <th>Counter</th>\n",
       "      <th>Authors</th>\n",
       "      <th>Avg_Rating</th>\n",
       "      <th>ISBN13</th>\n",
       "      <th>Num_Pages</th>\n",
       "      <th>Ratings_Count</th>\n",
       "      <th>Text_Reviews_Count</th>\n",
       "      <th>Publisher</th>\n",
       "      <th>Publication_Date</th>\n",
       "    </tr>\n",
       "  </thead>\n",
       "  <tbody>\n",
       "    <tr>\n",
       "      <th>0</th>\n",
       "      <td>$30 film school: how to write  direct  produce...</td>\n",
       "      <td>1</td>\n",
       "      <td>Michael W. Dean</td>\n",
       "      <td>3.49</td>\n",
       "      <td>9781592000678</td>\n",
       "      <td>528</td>\n",
       "      <td>30</td>\n",
       "      <td>4</td>\n",
       "      <td>Cengage Learning</td>\n",
       "      <td>2003-05-13</td>\n",
       "    </tr>\n",
       "    <tr>\n",
       "      <th>1</th>\n",
       "      <td>1 000 places to see before you die</td>\n",
       "      <td>1</td>\n",
       "      <td>Patricia Schultz</td>\n",
       "      <td>3.85</td>\n",
       "      <td>9780761104841</td>\n",
       "      <td>992</td>\n",
       "      <td>36303</td>\n",
       "      <td>439</td>\n",
       "      <td>Workman Publishing Company</td>\n",
       "      <td>2003-05-22</td>\n",
       "    </tr>\n",
       "    <tr>\n",
       "      <th>2</th>\n",
       "      <td>10 lb penalty</td>\n",
       "      <td>1</td>\n",
       "      <td>Dick Francis</td>\n",
       "      <td>3.9</td>\n",
       "      <td>9780425197455</td>\n",
       "      <td>320</td>\n",
       "      <td>3490</td>\n",
       "      <td>177</td>\n",
       "      <td>G.P. Putnam's Sons</td>\n",
       "      <td>2004-08-03</td>\n",
       "    </tr>\n",
       "    <tr>\n",
       "      <th>3</th>\n",
       "      <td>100 great fantasy short short stories</td>\n",
       "      <td>1</td>\n",
       "      <td>Isaac Asimov/Terry Carr/Martin H. Greenberg/J...</td>\n",
       "      <td>3.91</td>\n",
       "      <td>9780380699179</td>\n",
       "      <td>395</td>\n",
       "      <td>204</td>\n",
       "      <td>19</td>\n",
       "      <td>Avon</td>\n",
       "      <td>1985-08-01</td>\n",
       "    </tr>\n",
       "    <tr>\n",
       "      <th>4</th>\n",
       "      <td>100 love sonnets</td>\n",
       "      <td>1</td>\n",
       "      <td>Pablo Neruda/Stephen Tapscott</td>\n",
       "      <td>4.39</td>\n",
       "      <td>9780292760288</td>\n",
       "      <td>232</td>\n",
       "      <td>12613</td>\n",
       "      <td>392</td>\n",
       "      <td>University of Texas Press</td>\n",
       "      <td>1986-01-01</td>\n",
       "    </tr>\n",
       "  </tbody>\n",
       "</table>\n",
       "</div>"
      ]
     },
     "execution_count": 17,
     "metadata": {},
     "output_type": "execute_result"
    }
   ],
   "execution_count": 17
  },
  {
   "metadata": {
    "ExecuteTime": {
     "end_time": "2025-08-25T16:21:49.321825Z",
     "start_time": "2025-08-25T16:21:48.955882Z"
    }
   },
   "cell_type": "code",
   "source": [
    "my_client = pymongo.MongoClient(\"mongodb://localhost:27017/\")\n",
    "my_db = my_client[\"goodreads_db\"]\n",
    "my_collection = my_db[\"books\"]\n",
    "my_dictionary= df_pandas.to_dict(orient='records')\n",
    "\n",
    "result = my_collection.insert_many(my_dictionary)"
   ],
   "id": "9711b0ac6afd5703",
   "outputs": [],
   "execution_count": 18
  },
  {
   "metadata": {
    "ExecuteTime": {
     "end_time": "2025-08-25T16:21:49.914590Z",
     "start_time": "2025-08-25T16:21:49.405153Z"
    }
   },
   "cell_type": "code",
   "source": "sc.stop()",
   "id": "dd62be90990aff22",
   "outputs": [],
   "execution_count": 19
  }
 ],
 "metadata": {
  "kernelspec": {
   "display_name": "Python 3",
   "language": "python",
   "name": "python3"
  },
  "language_info": {
   "codemirror_mode": {
    "name": "ipython",
    "version": 2
   },
   "file_extension": ".py",
   "mimetype": "text/x-python",
   "name": "python",
   "nbconvert_exporter": "python",
   "pygments_lexer": "ipython2",
   "version": "2.7.6"
  }
 },
 "nbformat": 4,
 "nbformat_minor": 5
}
