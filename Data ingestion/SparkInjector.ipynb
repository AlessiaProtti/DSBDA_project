{
 "cells": [
  {
   "cell_type": "code",
   "id": "initial_id",
   "metadata": {
    "collapsed": true,
    "ExecuteTime": {
     "end_time": "2025-08-20T11:25:44.756245Z",
     "start_time": "2025-08-20T11:25:44.747701Z"
    }
   },
   "source": [
    "import findspark\n",
    "findspark.init()"
   ],
   "outputs": [],
   "execution_count": 1
  },
  {
   "metadata": {
    "ExecuteTime": {
     "end_time": "2025-08-20T11:25:44.863886Z",
     "start_time": "2025-08-20T11:25:44.761198Z"
    }
   },
   "cell_type": "code",
   "source": [
    "from pyspark import SparkContext\n",
    "from pyspark.streaming import StreamingContext\n",
    "from pyspark.sql import SparkSession\n",
    "import re"
   ],
   "id": "efda47df15c72903",
   "outputs": [],
   "execution_count": 2
  },
  {
   "metadata": {
    "ExecuteTime": {
     "end_time": "2025-08-20T11:25:44.877717Z",
     "start_time": "2025-08-20T11:25:44.871588Z"
    }
   },
   "cell_type": "code",
   "source": [
    "def rdd_to_hdfs(rdd):\n",
    "  if not rdd.isEmpty():\n",
    "    spark=SparkSession.builder.appName(\"App\").getOrCreate()\n",
    "    #l=[]\n",
    "\n",
    "    lst=rdd.collect()\n",
    "    hdfs_path=\"hdfs://localhost:54310/user/ubuntu/datasets\"\n",
    "\n",
    "    #Each line is stored separately due to possible inconsistencies on number of fields\n",
    "    for s in lst:\n",
    "      #l.append(str(s).split(\",\"))\n",
    "\n",
    "      # converting to list because It needs to be iterable\n",
    "      l=[str(s).split(\"/t\")]\n",
    "      # l=[]\n",
    "      # modified_s=re.sub(r\"''+\", \"' '\", str(s))\n",
    "      # for field in re.findall(r\"'.+?'|\\w+\", modified_s):\n",
    "      #   l.append(field)\n",
    "\n",
    "      #print(s)\n",
    "      #print(l)\n",
    "      #print(len(l))\n",
    "\n",
    "      schema=\"\"\n",
    "      for i in range(len(l)):\n",
    "        schema=schema+(chr(ord('`')+(i+1)))+\" string, \"\n",
    "\n",
    "      schema=schema[0:len(schema)-2]\n",
    "      #print(schema)\n",
    "\n",
    "      try:\n",
    "        df=spark.createDataFrame(l, schema=schema)\n",
    "        df.write.csv(hdfs_path, mode=\"append\", header=False)\n",
    "      except Exception as e:\n",
    "        pass\n",
    "\n",
    "    # schema=\"\"\n",
    "    # for i in range(len(l[0])):\n",
    "    #   schema=schema+(chr(ord('`')+(i+1)))+\" string, \"\n",
    "    #\n",
    "    # schema=schema[0:len(schema)-2]\n",
    "    #\n",
    "    # df=spark.createDataFrame(l, schema=schema)\n",
    "    # #df.show()\n",
    "    #\n",
    "    # hdfs_path=\"hdfs://localhost:54310/user/ubuntu/datasets\"\n",
    "    # df.write.csv(hdfs_path, mode=\"append\", header=False)"
   ],
   "id": "f0420f0083574327",
   "outputs": [],
   "execution_count": 3
  },
  {
   "metadata": {
    "jupyter": {
     "is_executing": true
    },
    "ExecuteTime": {
     "start_time": "2025-08-20T11:25:44.883932Z"
    }
   },
   "cell_type": "code",
   "source": [
    "# Create a local StreamingContext with two working thread and batch interval of 1 second\n",
    "sc = SparkContext(\"local[2]\")\n",
    "sc.setLogLevel(\"ERROR\")\n",
    "ssc = StreamingContext(sc, 1)\n",
    "\n",
    "# Create a DStream that will connect to hostname:port, like localhost:9999\n",
    "lines = ssc.socketTextStream(\"localhost\", 9999)\n",
    "\n",
    "batch=lines.map(lambda line: line.split(\"\\n\"))\n",
    "\n",
    "batch.foreachRDD(rdd_to_hdfs)\n",
    "\n",
    "ssc.start()             # Start the computation\n",
    "ssc.awaitTermination()  # Wait for the computation to terminate"
   ],
   "id": "29dd037f1bc604c1",
   "outputs": [
    {
     "name": "stderr",
     "output_type": "stream",
     "text": [
      "25/08/20 13:25:45 WARN Utils: Your hostname, dsbda-vm resolves to a loopback address: 127.0.1.1; using 10.0.2.15 instead (on interface enp0s3)\n",
      "25/08/20 13:25:45 WARN Utils: Set SPARK_LOCAL_IP if you need to bind to another address\n",
      "Using Spark's default log4j profile: org/apache/spark/log4j-defaults.properties\n",
      "Setting default log level to \"WARN\".\n",
      "To adjust logging level use sc.setLogLevel(newLevel). For SparkR, use setLogLevel(newLevel).\n",
      "25/08/20 13:25:46 WARN NativeCodeLoader: Unable to load native-hadoop library for your platform... using builtin-java classes where applicable\n",
      "                                                                                \r"
     ]
    }
   ],
   "execution_count": null
  },
  {
   "metadata": {},
   "cell_type": "code",
   "source": "sc.stop()",
   "id": "7abbaccf68599e81",
   "outputs": [],
   "execution_count": null
  }
 ],
 "metadata": {
  "kernelspec": {
   "display_name": "Python 3",
   "language": "python",
   "name": "python3"
  },
  "language_info": {
   "codemirror_mode": {
    "name": "ipython",
    "version": 2
   },
   "file_extension": ".py",
   "mimetype": "text/x-python",
   "name": "python",
   "nbconvert_exporter": "python",
   "pygments_lexer": "ipython2",
   "version": "2.7.6"
  }
 },
 "nbformat": 4,
 "nbformat_minor": 5
}
