{
 "cells": [
  {
   "cell_type": "code",
   "id": "initial_id",
   "metadata": {
    "collapsed": true,
    "ExecuteTime": {
     "end_time": "2025-08-16T16:55:44.733635Z",
     "start_time": "2025-08-16T16:55:44.728383Z"
    }
   },
   "source": [
    "import findspark\n",
    "findspark.init()"
   ],
   "outputs": [],
   "execution_count": 1
  },
  {
   "metadata": {
    "ExecuteTime": {
     "end_time": "2025-08-16T16:55:44.811642Z",
     "start_time": "2025-08-16T16:55:44.736811Z"
    }
   },
   "cell_type": "code",
   "source": [
    "from pyspark import SparkContext\n",
    "from pyspark.streaming import StreamingContext\n",
    "from pyspark.sql import SparkSession\n",
    "from pyspark.sql.types import Row, StringType"
   ],
   "id": "efda47df15c72903",
   "outputs": [],
   "execution_count": 2
  },
  {
   "metadata": {
    "ExecuteTime": {
     "end_time": "2025-08-16T16:55:44.821216Z",
     "start_time": "2025-08-16T16:55:44.815671Z"
    }
   },
   "cell_type": "code",
   "source": [
    "def rdd_to_hdfs(rdd):\n",
    "  if not rdd.isEmpty():\n",
    "    #print(rdd.collect())\n",
    "    spark=SparkSession.builder.appName(\"App\").getOrCreate()\n",
    "    #row_rdd=rdd.flatmap(lambda x:Row(x))\n",
    "    l=[]\n",
    "\n",
    "    lst=rdd.collect()\n",
    "    for s in lst:\n",
    "      l.append(str(s).split(\",\"))\n",
    "\n",
    "    schema=\"\"\n",
    "    for i in range(len(l[0])):\n",
    "      schema=schema+(chr(ord('`')+(i+1)))+\" string, \"\n",
    "\n",
    "    schema=schema[0:len(schema)-2]\n",
    "\n",
    "    #print(schema)\n",
    "\n",
    "    df=spark.createDataFrame(l, schema=schema)\n",
    "    df.show()"
   ],
   "id": "f0420f0083574327",
   "outputs": [],
   "execution_count": 3
  },
  {
   "metadata": {
    "ExecuteTime": {
     "end_time": "2025-08-16T16:56:19.325361Z",
     "start_time": "2025-08-16T16:55:44.827635Z"
    }
   },
   "cell_type": "code",
   "source": [
    "# Create a local StreamingContext with two working thread and batch interval of 1 second\n",
    "sc = SparkContext(\"local[2]\")\n",
    "ssc = StreamingContext(sc, 1)\n",
    "\n",
    "# Create a DStream that will connect to hostname:port, like localhost:9999\n",
    "lines = ssc.socketTextStream(\"localhost\", 9999)\n",
    "\n",
    "batch=lines.map(lambda line: line.split(\"\\n\"))\n",
    "#words=batch_size.flatMap(lambda line: line.split(\",\"))\n",
    "\n",
    "#words.pprint()\n",
    "\n",
    "batch.foreachRDD(rdd_to_hdfs)\n",
    "\n",
    "ssc.start()             # Start the computation\n",
    "ssc.awaitTermination()  # Wait for the computation to terminate"
   ],
   "id": "29dd037f1bc604c1",
   "outputs": [
    {
     "name": "stderr",
     "output_type": "stream",
     "text": [
      "25/08/16 18:55:45 WARN Utils: Your hostname, dsbda-vm resolves to a loopback address: 127.0.1.1; using 10.0.2.15 instead (on interface enp0s3)\n",
      "25/08/16 18:55:45 WARN Utils: Set SPARK_LOCAL_IP if you need to bind to another address\n",
      "Using Spark's default log4j profile: org/apache/spark/log4j-defaults.properties\n",
      "Setting default log level to \"WARN\".\n",
      "To adjust logging level use sc.setLogLevel(newLevel). For SparkR, use setLogLevel(newLevel).\n",
      "25/08/16 18:55:46 WARN NativeCodeLoader: Unable to load native-hadoop library for your platform... using builtin-java classes where applicable\n",
      "25/08/16 18:55:47 WARN RandomBlockReplicationPolicy: Expecting 1 replicas with only 0 peer/s.\n",
      "25/08/16 18:55:47 WARN BlockManager: Block input-0-1755363347600 replicated to only 0 peer(s) instead of 1 peers\n",
      "25/08/16 18:55:48 WARN RandomBlockReplicationPolicy: Expecting 1 replicas with only 0 peer/s.\n",
      "25/08/16 18:55:48 WARN BlockManager: Block input-0-1755363347800 replicated to only 0 peer(s) instead of 1 peers\n",
      "25/08/16 18:55:48 WARN RandomBlockReplicationPolicy: Expecting 1 replicas with only 0 peer/s.\n",
      "25/08/16 18:55:48 WARN BlockManager: Block input-0-1755363348400 replicated to only 0 peer(s) instead of 1 peers\n",
      "25/08/16 18:55:49 WARN RandomBlockReplicationPolicy: Expecting 1 replicas with only 0 peer/s.\n",
      "25/08/16 18:55:49 WARN BlockManager: Block input-0-1755363348800 replicated to only 0 peer(s) instead of 1 peers\n",
      "25/08/16 18:55:49 WARN RandomBlockReplicationPolicy: Expecting 1 replicas with only 0 peer/s.\n",
      "25/08/16 18:55:49 WARN BlockManager: Block input-0-1755363349200 replicated to only 0 peer(s) instead of 1 peers\n",
      "25/08/16 18:55:49 WARN RandomBlockReplicationPolicy: Expecting 1 replicas with only 0 peer/s.\n",
      "25/08/16 18:55:49 WARN BlockManager: Block input-0-1755363349400 replicated to only 0 peer(s) instead of 1 peers\n",
      "25/08/16 18:55:49 WARN RandomBlockReplicationPolicy: Expecting 1 replicas with only 0 peer/s.\n",
      "25/08/16 18:55:49 WARN BlockManager: Block input-0-1755363349600 replicated to only 0 peer(s) instead of 1 peers\n",
      "25/08/16 18:55:50 WARN RandomBlockReplicationPolicy: Expecting 1 replicas with only 0 peer/s.\n",
      "25/08/16 18:55:50 WARN BlockManager: Block input-0-1755363349800 replicated to only 0 peer(s) instead of 1 peers\n",
      "25/08/16 18:55:50 WARN RandomBlockReplicationPolicy: Expecting 1 replicas with only 0 peer/s.\n",
      "25/08/16 18:55:50 WARN BlockManager: Block input-0-1755363350000 replicated to only 0 peer(s) instead of 1 peers\n",
      "25/08/16 18:55:50 WARN RandomBlockReplicationPolicy: Expecting 1 replicas with only 0 peer/s.\n",
      "25/08/16 18:55:50 WARN BlockManager: Block input-0-1755363350400 replicated to only 0 peer(s) instead of 1 peers\n",
      "25/08/16 18:55:50 WARN RandomBlockReplicationPolicy: Expecting 1 replicas with only 0 peer/s.\n",
      "25/08/16 18:55:50 WARN BlockManager: Block input-0-1755363350600 replicated to only 0 peer(s) instead of 1 peers\n",
      "25/08/16 18:55:51 WARN RandomBlockReplicationPolicy: Expecting 1 replicas with only 0 peer/s.\n",
      "25/08/16 18:55:51 WARN BlockManager: Block input-0-1755363350800 replicated to only 0 peer(s) instead of 1 peers\n"
     ]
    },
    {
     "name": "stdout",
     "output_type": "stream",
     "text": [
      "+------+--------------------+--------------------+-------+-------------+----------------+------+------+----------+--------+------------+--------------------+\n",
      "|     a|                   b|                   c|      d|            e|               f|     g|     h|         i|       j|           k|                   l|\n",
      "+------+--------------------+--------------------+-------+-------------+----------------+------+------+----------+--------+------------+--------------------+\n",
      "|[\"['1'| 'Harry Potter an...| 'J.K. Rowling/Ma...| '4.57'| '0439785960'| '9780439785969'| 'eng'| '652'| '2095690'| '27591'| '9/16/2006'| 'Scholastic Inc....|\n",
      "+------+--------------------+--------------------+-------+-------------+----------------+------+------+----------+--------+------------+--------------------+\n",
      "\n"
     ]
    },
    {
     "name": "stderr",
     "output_type": "stream",
     "text": [
      "25/08/16 18:55:51 WARN RandomBlockReplicationPolicy: Expecting 1 replicas with only 0 peer/s.\n",
      "25/08/16 18:55:51 WARN BlockManager: Block input-0-1755363351000 replicated to only 0 peer(s) instead of 1 peers\n"
     ]
    },
    {
     "name": "stdout",
     "output_type": "stream",
     "text": [
      "+------+--------------------+--------------------+-------+-------------+----------------+------+------+----------+--------+------------+--------------------+\n",
      "|     a|                   b|                   c|      d|            e|               f|     g|     h|         i|       j|           k|                   l|\n",
      "+------+--------------------+--------------------+-------+-------------+----------------+------+------+----------+--------+------------+--------------------+\n",
      "|[\"['2'| 'Harry Potter an...| 'J.K. Rowling/Ma...| '4.49'| '0439358078'| '9780439358071'| 'eng'| '870'| '2153167'| '29221'|  '9/1/2004'| 'Scholastic Inc....|\n",
      "|[\"['4'| 'Harry Potter an...|      'J.K. Rowling'| '4.42'| '0439554896'| '9780439554893'| 'eng'| '352'|    '6333'|   '244'| '11/1/2003'|     'Scholastic']\"]|\n",
      "+------+--------------------+--------------------+-------+-------------+----------------+------+------+----------+--------+------------+--------------------+\n",
      "\n"
     ]
    },
    {
     "name": "stderr",
     "output_type": "stream",
     "text": [
      "25/08/16 18:55:51 WARN RandomBlockReplicationPolicy: Expecting 1 replicas with only 0 peer/s.\n",
      "25/08/16 18:55:51 WARN BlockManager: Block input-0-1755363351400 replicated to only 0 peer(s) instead of 1 peers\n",
      "25/08/16 18:55:51 WARN RandomBlockReplicationPolicy: Expecting 1 replicas with only 0 peer/s.\n",
      "25/08/16 18:55:51 WARN BlockManager: Block input-0-1755363351600 replicated to only 0 peer(s) instead of 1 peers\n"
     ]
    },
    {
     "name": "stdout",
     "output_type": "stream",
     "text": [
      "+--------+--------------------+--------------------+---------+---------------+------------------+----------+--------+----------+--------+--------------+--------------------+\n",
      "|       a|                   b|                   c|        d|              e|                 f|         g|       h|         i|       j|             k|                   l|\n",
      "+--------+--------------------+--------------------+---------+---------------+------------------+----------+--------+----------+--------+--------------+--------------------+\n",
      "|  [\"['5'| 'Harry Potter an...| 'J.K. Rowling/Ma...|   '4.56'|   '043965548X'|   '9780439655484'|     'eng'|   '435'| '2339585'| '36325'|    '5/1/2004'| 'Scholastic Inc....|\n",
      "|  [\"['8'| 'Harry Potter Bo...| 'J.K. Rowling/Ma...|   '4.78'|   '0439682584'|   '9780439682589'|     'eng'|  '2690'|   '41428'|   '164'|   '9/13/2004'|     'Scholastic']\"]|\n",
      "|['[\\'9\\'| \\'Unauthorized H...| \\'W. Frederick Z...| \\'3.74\\'| \\'0976540606\\'| \\'9780976540601\\'| \\'en-US\\'| \\'152\\'|    \\'19\\'|   \\'1\\'| \\'4/26/2005\\'| \\'Nimble Books\\']']|\n",
      "| [\"['10'| 'Harry Potter Co...|      'J.K. Rowling'|   '4.73'|   '0439827604'|   '9780439827607'|     'eng'|  '3342'|   '28242'|   '808'|   '9/12/2005'|     'Scholastic']\"]|\n",
      "+--------+--------------------+--------------------+---------+---------------+------------------+----------+--------+----------+--------+--------------+--------------------+\n",
      "\n"
     ]
    },
    {
     "name": "stderr",
     "output_type": "stream",
     "text": [
      "25/08/16 18:55:52 WARN RandomBlockReplicationPolicy: Expecting 1 replicas with only 0 peer/s.\n",
      "25/08/16 18:55:52 WARN BlockManager: Block input-0-1755363352000 replicated to only 0 peer(s) instead of 1 peers\n"
     ]
    },
    {
     "name": "stdout",
     "output_type": "stream",
     "text": [
      "+---------+--------------------+--------------------+---------+---------------+------------------+--------+--------+-----------+---------+--------------+--------------------+\n",
      "|        a|                   b|                   c|        d|              e|                 f|       g|       h|          i|        j|             k|                   l|\n",
      "+---------+--------------------+--------------------+---------+---------------+------------------+--------+--------+-----------+---------+--------------+--------------------+\n",
      "|['[\\'12\\'| \"The Ultimate Hi...|   \\'Douglas Adams\\'| \\'4.38\\'| \\'0517226952\\'| \\'9780517226957\\'| \\'eng\\'| \\'815\\'|   \\'3628\\'|  \\'254\\'| \\'11/1/2005\\'| \\'Gramercy Books...|\n",
      "|['[\\'13\\'| \"The Ultimate Hi...|   \\'Douglas Adams\\'| \\'4.38\\'| \\'0345453743\\'| \\'9780345453747\\'| \\'eng\\'| \\'815\\'| \\'249558\\'| \\'4080\\'| \\'4/30/2002\\'| \\'Del Rey Books\\...|\n",
      "|['[\\'14\\'| \"The Hitchhiker\\...|   \\'Douglas Adams\\'| \\'4.22\\'| \\'1400052920\\'| \\'9781400052929\\'| \\'eng\\'| \\'215\\'|   \\'4930\\'|  \\'460\\'|  \\'8/3/2004\\'|        \\'Crown\\']']|\n",
      "|['[\\'16\\'| \"The Hitchhiker\\...| \\'Douglas Adams/...| \\'4.22\\'| \\'0739322206\\'| \\'9780739322208\\'| \\'eng\\'|   \\'6\\'|   \\'1266\\'|  \\'253\\'| \\'3/23/2005\\'| \\'Random House A...|\n",
      "|['[\\'18\\'| \"The Ultimate Hi...|   \\'Douglas Adams\\'| \\'4.38\\'| \\'0517149257\\'| \\'9780517149256\\'| \\'eng\\'| \\'815\\'|   \\'2877\\'|  \\'195\\'| \\'1/17/1996\\'|  \\'Wings Books\\']']|\n",
      "+---------+--------------------+--------------------+---------+---------------+------------------+--------+--------+-----------+---------+--------------+--------------------+\n",
      "\n"
     ]
    },
    {
     "name": "stderr",
     "output_type": "stream",
     "text": [
      "25/08/16 18:55:52 WARN RandomBlockReplicationPolicy: Expecting 1 replicas with only 0 peer/s.\n",
      "25/08/16 18:55:52 WARN BlockManager: Block input-0-1755363352400 replicated to only 0 peer(s) instead of 1 peers\n",
      "25/08/16 18:55:52 WARN RandomBlockReplicationPolicy: Expecting 1 replicas with only 0 peer/s.\n",
      "25/08/16 18:55:52 WARN BlockManager: Block input-0-1755363352600 replicated to only 0 peer(s) instead of 1 peers\n"
     ]
    },
    {
     "name": "stdout",
     "output_type": "stream",
     "text": [
      "+---------+--------------------+----------------+---------+---------------+------------------+--------+--------+---------+--------+--------------+--------------------+\n",
      "|        a|                   b|               c|        d|              e|                 f|       g|       h|        i|       j|             k|                   l|\n",
      "+---------+--------------------+----------------+---------+---------------+------------------+--------+--------+---------+--------+--------------+--------------------+\n",
      "|  [\"['21'| 'A Short History...|   'Bill Bryson'|   '4.21'|   '076790818X'|   '9780767908184'|   'eng'|   '544'| '248558'|  '9396'|   '9/14/2004'| 'Broadway Books']\"]|\n",
      "|['[\\'22\\'| \"Bill Bryson\\'s ...| \\'Bill Bryson\\'| \\'3.44\\'| \\'0767915062\\'| \\'9780767915069\\'| \\'eng\\'|  \\'55\\'| \\'7270\\'| \\'499\\'| \\'12/3/2002\\'| \\'Broadway Books...|\n",
      "|['[\\'23\\'| \"Bryson\\'s Dicti...| \\'Bill Bryson\\'| \\'3.87\\'| \\'0767910435\\'| \\'9780767910439\\'| \\'eng\\'| \\'256\\'| \\'2088\\'| \\'131\\'| \\'9/14/2004\\'| \\'Broadway Books...|\n",
      "|  [\"['24'| 'In a Sunburned ...|   'Bill Bryson'|   '4.07'|   '0767903862'|   '9780767903868'|   'eng'|   '335'|  '72451'|  '4245'|   '5/15/2001'| 'Broadway Books']\"]|\n",
      "+---------+--------------------+----------------+---------+---------------+------------------+--------+--------+---------+--------+--------------+--------------------+\n",
      "\n"
     ]
    },
    {
     "name": "stderr",
     "output_type": "stream",
     "text": [
      "25/08/16 18:55:53 WARN RandomBlockReplicationPolicy: Expecting 1 replicas with only 0 peer/s.\n",
      "25/08/16 18:55:53 WARN BlockManager: Block input-0-1755363352800 replicated to only 0 peer(s) instead of 1 peers\n",
      "25/08/16 18:55:53 WARN RandomBlockReplicationPolicy: Expecting 1 replicas with only 0 peer/s.\n",
      "25/08/16 18:55:53 WARN BlockManager: Block input-0-1755363353000 replicated to only 0 peer(s) instead of 1 peers\n"
     ]
    },
    {
     "name": "stdout",
     "output_type": "stream",
     "text": [
      "+---------+--------------------+----------------+---------+---------------+------------------+--------+--------+----------+---------+--------------+--------------------+\n",
      "|        a|                   b|               c|        d|              e|                 f|       g|       h|         i|        j|             k|                   l|\n",
      "+---------+--------------------+----------------+---------+---------------+------------------+--------+--------+----------+---------+--------------+--------------------+\n",
      "|['[\\'25\\'| \"I\\'m a Stranger...| \\'Bill Bryson\\'| \\'3.90\\'| \\'076790382X\\'| \\'9780767903820\\'| \\'eng\\'| \\'304\\'| \\'49240\\'| \\'2211\\'| \\'6/28/2000\\'| \\'Broadway Books...|\n",
      "|  [\"['26'| 'The Lost Contin...|   'Bill Bryson'|   '3.83'|   '0060920084'|   '9780060920081'|   'eng'|   '299'|   '45712'|   '2257'|   '8/28/1990'| 'William Morrow ...|\n",
      "|  [\"['27'| 'Neither Here no...|   'Bill Bryson'|   '3.86'|   '0380713802'|   '9780380713806'|   'eng'|   '254'|   '48701'|   '2238'|   '3/28/1993'| 'William Morrow ...|\n",
      "|  [\"['28'| 'Notes from a Sm...|   'Bill Bryson'|   '3.91'|   '0380727501'|   '9780380727506'|   'eng'|   '324'|   '80609'|   '3301'|   '5/28/1997'| 'William Morrow ...|\n",
      "|  [\"['29'| 'The Mother Tong...|   'Bill Bryson'|   '3.93'|   '0380715430'|   '9780380715435'|   'eng'|   '270'|   '28489'|   '2085'|   '9/28/1991'| 'William Morrow ...|\n",
      "+---------+--------------------+----------------+---------+---------------+------------------+--------+--------+----------+---------+--------------+--------------------+\n",
      "\n"
     ]
    },
    {
     "name": "stderr",
     "output_type": "stream",
     "text": [
      "25/08/16 18:55:53 WARN RandomBlockReplicationPolicy: Expecting 1 replicas with only 0 peer/s.\n",
      "25/08/16 18:55:53 WARN BlockManager: Block input-0-1755363353200 replicated to only 0 peer(s) instead of 1 peers\n",
      "25/08/16 18:55:54 WARN RandomBlockReplicationPolicy: Expecting 1 replicas with only 0 peer/s.\n",
      "25/08/16 18:55:54 WARN BlockManager: Block input-0-1755363353800 replicated to only 0 peer(s) instead of 1 peers\n",
      "                                                                                \r"
     ]
    },
    {
     "name": "stdout",
     "output_type": "stream",
     "text": [
      "+-------+--------------------+--------------------+-------+-------------+----------------+--------+-------+----------+--------+-------------+--------------------+\n",
      "|      a|                   b|                   c|      d|            e|               f|       g|      h|         i|       j|            k|                   l|\n",
      "+-------+--------------------+--------------------+-------+-------------+----------------+--------+-------+----------+--------+-------------+--------------------+\n",
      "|[\"['30'| 'J.R.R. Tolkien ...|    'J.R.R. Tolkien'| '4.59'| '0345538374'| '9780345538376'|   'eng'| '1728'|  '101233'|  '1550'|  '9/25/2012'| 'Ballantine Book...|\n",
      "|[\"['31'| 'The Lord of the...|    'J.R.R. Tolkien'| '4.50'| '0618517650'| '9780618517657'|   'eng'| '1184'|    '1710'|    '91'| '10/21/2004'| 'Houghton Miffli...|\n",
      "|[\"['34'| 'The Fellowship ...|    'J.R.R. Tolkien'| '4.36'| '0618346252'| '9780618346257'|   'eng'|  '398'| '2128944'| '13670'|   '9/5/2003'| 'Houghton Miffli...|\n",
      "|[\"['35'| 'The Lord of the...| 'J.R.R. Tolkien/...| '4.50'| '0618260587'| '9780618260584'| 'en-US'| '1216'|    '1618'|   '140'|  '10/1/2002'| 'Houghton Miffli...|\n",
      "+-------+--------------------+--------------------+-------+-------------+----------------+--------+-------+----------+--------+-------------+--------------------+\n",
      "\n"
     ]
    },
    {
     "name": "stderr",
     "output_type": "stream",
     "text": [
      "25/08/16 18:55:54 WARN RandomBlockReplicationPolicy: Expecting 1 replicas with only 0 peer/s.\n",
      "25/08/16 18:55:54 WARN BlockManager: Block input-0-1755363354200 replicated to only 0 peer(s) instead of 1 peers\n",
      "25/08/16 18:55:54 WARN RandomBlockReplicationPolicy: Expecting 1 replicas with only 0 peer/s.\n",
      "25/08/16 18:55:54 WARN BlockManager: Block input-0-1755363354600 replicated to only 0 peer(s) instead of 1 peers\n",
      "25/08/16 18:55:55 WARN RandomBlockReplicationPolicy: Expecting 1 replicas with only 0 peer/s.\n",
      "25/08/16 18:55:55 WARN BlockManager: Block input-0-1755363355000 replicated to only 0 peer(s) instead of 1 peers\n"
     ]
    },
    {
     "name": "stdout",
     "output_type": "stream",
     "text": [
      "+-------+--------------------+--------------------+-------+-------------+----------------+------+------+--------+-----+-------------+--------------------+\n",
      "|      a|                   b|                   c|      d|            e|               f|     g|     h|       i|    j|            k|                   l|\n",
      "+-------+--------------------+--------------------+-------+-------------+----------------+------+------+--------+-----+-------------+--------------------+\n",
      "|[\"['36'| 'The Lord of the...| 'Chris   Smith/C...| '4.53'| '0618391002'| '9780618391004'| 'eng'| '218'| '19822'| '46'|  '11/5/2003'| 'Houghton Miffli...|\n",
      "|[\"['37'| 'The Lord of the...|       'Jude Fisher'| '4.50'| '0618510826'| '9780618510825'| 'eng'| '224'|   '359'|  '6'| '11/15/2004'| 'Houghton Miffli...|\n",
      "|[\"['45'| 'Agile Web Devel...| 'Dave Thomas/Dav...| '3.84'| '097669400X'| '9780976694007'| 'eng'| '558'|  '1430'| '59'|  '7/28/2005'| 'Pragmatic Books...|\n",
      "+-------+--------------------+--------------------+-------+-------------+----------------+------+------+--------+-----+-------------+--------------------+\n",
      "\n"
     ]
    },
    {
     "name": "stderr",
     "output_type": "stream",
     "text": [
      "25/08/16 18:55:55 WARN RandomBlockReplicationPolicy: Expecting 1 replicas with only 0 peer/s.\n",
      "25/08/16 18:55:55 WARN BlockManager: Block input-0-1755363355400 replicated to only 0 peer(s) instead of 1 peers\n",
      "25/08/16 18:55:55 WARN RandomBlockReplicationPolicy: Expecting 1 replicas with only 0 peer/s.\n",
      "25/08/16 18:55:55 WARN BlockManager: Block input-0-1755363355600 replicated to only 0 peer(s) instead of 1 peers\n",
      "25/08/16 18:55:56 WARN RandomBlockReplicationPolicy: Expecting 1 replicas with only 0 peer/s.\n",
      "25/08/16 18:55:56 WARN BlockManager: Block input-0-1755363355800 replicated to only 0 peer(s) instead of 1 peers\n",
      "25/08/16 18:55:56 WARN RandomBlockReplicationPolicy: Expecting 1 replicas with only 0 peer/s.\n",
      "25/08/16 18:55:56 WARN BlockManager: Block input-0-1755363356000 replicated to only 0 peer(s) instead of 1 peers\n"
     ]
    },
    {
     "name": "stdout",
     "output_type": "stream",
     "text": [
      "+---------+--------------------+--------------------+---------+---------------+------------------+--------+--------+-----------+----------+--------------+--------------------+\n",
      "|        a|                   b|                   c|        d|              e|                 f|       g|       h|          i|         j|             k|                   l|\n",
      "+---------+--------------------+--------------------+---------+---------------+------------------+--------+--------+-----------+----------+--------------+--------------------+\n",
      "|['[\\'50\\'| \"Hatchet (Brian\\...|    \\'Gary Paulsen\\'| \\'3.72\\'| \\'0689840926\\'| \\'9780689840920\\'| \\'eng\\'| \\'208\\'| \\'270244\\'| \\'12017\\'|  \\'4/1/2000\\'| \\'Atheneum Books...|\n",
      "|['[\\'51\\'| \\'Hatchet: A Gui...| \\'Donna Ickes/Ed...| \\'4.00\\'| \\'1557344493\\'| \\'9781557344496\\'| \\'eng\\'|  \\'48\\'|     \\'36\\'|     \\'2\\'| \\'8/28/1994\\'| \\'Teacher Create...|\n",
      "|  [\"['53'| 'Guts: The True ...|      'Gary Paulsen'|   '3.88'|   '0385326505'|   '9780385326506'|   'eng'|   '144'|     '2067'|     '334'|   '1/23/2001'| 'Delacorte Press...|\n",
      "+---------+--------------------+--------------------+---------+---------------+------------------+--------+--------+-----------+----------+--------------+--------------------+\n",
      "\n"
     ]
    },
    {
     "name": "stderr",
     "output_type": "stream",
     "text": [
      "25/08/16 18:55:56 WARN RandomBlockReplicationPolicy: Expecting 1 replicas with only 0 peer/s.\n",
      "25/08/16 18:55:56 WARN BlockManager: Block input-0-1755363356200 replicated to only 0 peer(s) instead of 1 peers\n",
      "25/08/16 18:55:56 WARN RandomBlockReplicationPolicy: Expecting 1 replicas with only 0 peer/s.\n",
      "25/08/16 18:55:56 WARN BlockManager: Block input-0-1755363356600 replicated to only 0 peer(s) instead of 1 peers\n",
      "25/08/16 18:55:57 WARN RandomBlockReplicationPolicy: Expecting 1 replicas with only 0 peer/s.\n",
      "25/08/16 18:55:57 WARN BlockManager: Block input-0-1755363356800 replicated to only 0 peer(s) instead of 1 peers\n",
      "25/08/16 18:55:57 WARN RandomBlockReplicationPolicy: Expecting 1 replicas with only 0 peer/s.\n",
      "25/08/16 18:55:57 WARN BlockManager: Block input-0-1755363357200 replicated to only 0 peer(s) instead of 1 peers\n"
     ]
    },
    {
     "name": "stdout",
     "output_type": "stream",
     "text": [
      "+-------+--------------------+--------------------+-------+-------------+----------------+--------+------+-------+------+------------+--------------------+\n",
      "|      a|                   b|                   c|      d|            e|               f|       g|     h|      i|     j|           k|                   l|\n",
      "+-------+--------------------+--------------------+-------+-------------+----------------+--------+------+-------+------+------------+--------------------+\n",
      "|[\"['54'| 'Molly Hatchet -...|     'Molly Hatchet'| '4.33'| '1575606240'| '9781575606248'|   'eng'|  '56'|    '6'|   '0'| '6/10/2003'| 'Cherry Lane Mus...|\n",
      "|[\"['55'| 'Hatchet Jobs: W...|         'Dale Peck'| '3.45'| '1595580271'| '9781595580276'| 'en-US'| '228'|   '99'|  '16'| '11/1/2005'|  'The New Press']\"]|\n",
      "|[\"['57'| 'A Changeling fo...| 'Angela Knight/S...| '3.76'| '1595962808'| '9781595962805'|   'eng'| '304'|  '167'|   '4'| '11/1/2005'| 'Changeling Pres...|\n",
      "|[\"['58'| 'Changeling (Cha...|     'Delia Sherman'| '3.60'| '0670059676'| '9780670059676'|   'eng'| '256'|  '978'| '111'| '8/17/2006'| 'Viking Juvenile...|\n",
      "|[\"['59'| 'The Changeling ...| 'Patricia A. McK...| '4.06'| '0141312629'| '9780141312620'|   'eng'| '137'| '4454'| '302'| '4/14/2003'|       'Firebird']\"]|\n",
      "|[\"['61'|    'The Changeling'| 'Zilpha Keatley ...| '4.17'| '0595321801'| '9780595321803'|   'eng'| '228'| '1176'|  '96'|  '6/8/2004'|      'iUniverse']\"]|\n",
      "|[\"['63'|    'The Changeling'|      'Kate Horsley'| '3.55'| '1590301943'| '9781590301944'|   'eng'| '339'|  '301'|  '43'| '4/12/2005'|      'Shambhala']\"]|\n",
      "+-------+--------------------+--------------------+-------+-------------+----------------+--------+------+-------+------+------------+--------------------+\n",
      "\n"
     ]
    },
    {
     "name": "stderr",
     "output_type": "stream",
     "text": [
      "25/08/16 18:55:57 WARN RandomBlockReplicationPolicy: Expecting 1 replicas with only 0 peer/s.\n",
      "25/08/16 18:55:57 WARN BlockManager: Block input-0-1755363357400 replicated to only 0 peer(s) instead of 1 peers\n",
      "25/08/16 18:55:58 WARN RandomBlockReplicationPolicy: Expecting 1 replicas with only 0 peer/s.\n",
      "25/08/16 18:55:58 WARN BlockManager: Block input-0-1755363358000 replicated to only 0 peer(s) instead of 1 peers\n"
     ]
    },
    {
     "name": "stdout",
     "output_type": "stream",
     "text": [
      "+-------+--------------------+--------------------+-------+-------------+----------------+--------+------+--------+-------+------------+-----------------+\n",
      "|      a|                   b|                   c|      d|            e|               f|       g|     h|       i|      j|           k|                l|\n",
      "+-------+--------------------+--------------------+-------+-------------+----------------+--------+------+--------+-------+------------+-----------------+\n",
      "|[\"['66'| 'The Changeling ...|     'Philippa Carr'| '3.98'| '0449146979'| '9780449146972'|   'eng'| '369'|   '345'|   '12'| '8/28/1990'|   'Ivy Books']\"]|\n",
      "|[\"['67'|   'The Known World'|   'Edward P. Jones'| '3.83'| '0061159174'| '9780061159176'|   'eng'| '388'| '29686'| '2626'| '8/29/2006'|     'Amistad']\"]|\n",
      "|[\"['68'|   'The Known World'| 'Edward P. Jones...| '3.83'| '006076273X'| '9780060762735'| 'en-US'|  '14'|    '55'|   '12'| '6/15/2004'| 'HarperAudio']\"]|\n",
      "|[\"['69'|   'The Known World'|   'Edward P. Jones'| '3.83'| '0060749911'| '9780060749910'|   'eng'| '576'|    '22'|    '3'| '6/15/2004'|      'Harper']\"]|\n",
      "+-------+--------------------+--------------------+-------+-------------+----------------+--------+------+--------+-------+------------+-----------------+\n",
      "\n"
     ]
    },
    {
     "name": "stderr",
     "output_type": "stream",
     "text": [
      "25/08/16 18:55:58 WARN RandomBlockReplicationPolicy: Expecting 1 replicas with only 0 peer/s.\n",
      "25/08/16 18:55:58 WARN BlockManager: Block input-0-1755363358200 replicated to only 0 peer(s) instead of 1 peers\n",
      "25/08/16 18:55:58 WARN RandomBlockReplicationPolicy: Expecting 1 replicas with only 0 peer/s.\n",
      "25/08/16 18:55:58 WARN BlockManager: Block input-0-1755363358400 replicated to only 0 peer(s) instead of 1 peers\n",
      "25/08/16 18:55:58 WARN RandomBlockReplicationPolicy: Expecting 1 replicas with only 0 peer/s.\n",
      "25/08/16 18:55:58 WARN BlockManager: Block input-0-1755363358600 replicated to only 0 peer(s) instead of 1 peers\n",
      "25/08/16 18:55:59 WARN RandomBlockReplicationPolicy: Expecting 1 replicas with only 0 peer/s.\n",
      "25/08/16 18:55:59 WARN BlockManager: Block input-0-1755363358800 replicated to only 0 peer(s) instead of 1 peers\n",
      "25/08/16 18:55:59 WARN RandomBlockReplicationPolicy: Expecting 1 replicas with only 0 peer/s.\n",
      "25/08/16 18:55:59 WARN BlockManager: Block input-0-1755363359200 replicated to only 0 peer(s) instead of 1 peers\n"
     ]
    },
    {
     "name": "stdout",
     "output_type": "stream",
     "text": [
      "+-------+--------------------+--------------------+-------+-------------+----------------+--------+------+-------+------+-------------+--------------------+\n",
      "|      a|                   b|                   c|      d|            e|               f|       g|     h|      i|     j|            k|                   l|\n",
      "+-------+--------------------+--------------------+-------+-------------+----------------+--------+------+-------+------+-------------+--------------------+\n",
      "|[\"['71'| 'Traders  Guns &...|      'Satyajit Das'| '3.83'| '0273704745'| '9780273704744'|   'eng'| '334'| '1456'|  '82'|  '5/15/2006'|       'FT Press']\"]|\n",
      "|[\"['72'| 'Artesia: Advent...|       'Mark Smylie'| '4.13'| '1932386106'| '9781932386103'|   'eng'| '352'|   '52'|   '4'| '12/14/2005'|        'Archaia']\"]|\n",
      "|[\"['74'| 'The John McPhee...| 'John McPhee/Wil...| '4.42'| '0374517193'| '9780374517199'|   'eng'| '416'|  '562'|  '37'|   '6/1/1982'| 'Farrar  Straus ...|\n",
      "|[\"['75'| 'Uncommon Carriers'|       'John McPhee'| '3.95'| '0374280398'| '9780374280390'| 'en-US'| '248'| '1630'| '203'|  '5/16/2006'| 'Farrar Straus G...|\n",
      "+-------+--------------------+--------------------+-------+-------------+----------------+--------+------+-------+------+-------------+--------------------+\n",
      "\n"
     ]
    },
    {
     "name": "stderr",
     "output_type": "stream",
     "text": [
      "25/08/16 18:55:59 WARN RandomBlockReplicationPolicy: Expecting 1 replicas with only 0 peer/s.\n",
      "25/08/16 18:55:59 WARN BlockManager: Block input-0-1755363359600 replicated to only 0 peer(s) instead of 1 peers\n",
      "25/08/16 18:56:00 WARN RandomBlockReplicationPolicy: Expecting 1 replicas with only 0 peer/s.\n",
      "25/08/16 18:56:00 WARN BlockManager: Block input-0-1755363359800 replicated to only 0 peer(s) instead of 1 peers\n",
      "25/08/16 18:56:00 WARN RandomBlockReplicationPolicy: Expecting 1 replicas with only 0 peer/s.\n",
      "25/08/16 18:56:00 WARN BlockManager: Block input-0-1755363360000 replicated to only 0 peer(s) instead of 1 peers\n"
     ]
    },
    {
     "name": "stdout",
     "output_type": "stream",
     "text": [
      "+-------+--------------------+--------------+-------+-------------+----------------+--------+------+-------+------+-----------+--------------------+\n",
      "|      a|                   b|             c|      d|            e|               f|       g|     h|      i|     j|          k|                   l|\n",
      "+-------+--------------------+--------------+-------+-------------+----------------+--------+------+-------+------+-----------+--------------------+\n",
      "|[\"['76'| 'Heirs of Genera...| 'John McPhee'| '4.17'| '0374519749'| '9780374519742'|   'eng'| '128'|  '268'|  '22'| '4/1/1986'| 'Farrar  Straus ...|\n",
      "|[\"['77'| 'The Control of ...| 'John McPhee'| '4.24'| '0374522596'| '9780374522599'| 'en-US'| '288'| '3498'| '305'| '9/1/1990'| 'Farrar  Straus ...|\n",
      "|[\"['78'| 'Annals of the F...| 'John McPhee'| '4.34'| '0374518734'| '9780374518738'|   'eng'| '720'| '3115'| '228'| '1/6/1999'| 'Farrar  Straus ...|\n",
      "+-------+--------------------+--------------+-------+-------------+----------------+--------+------+-------+------+-----------+--------------------+\n",
      "\n"
     ]
    },
    {
     "name": "stderr",
     "output_type": "stream",
     "text": [
      "25/08/16 18:56:00 WARN RandomBlockReplicationPolicy: Expecting 1 replicas with only 0 peer/s.\n",
      "25/08/16 18:56:00 WARN BlockManager: Block input-0-1755363360400 replicated to only 0 peer(s) instead of 1 peers\n",
      "25/08/16 18:56:00 WARN RandomBlockReplicationPolicy: Expecting 1 replicas with only 0 peer/s.\n",
      "25/08/16 18:56:00 WARN BlockManager: Block input-0-1755363360600 replicated to only 0 peer(s) instead of 1 peers\n",
      "25/08/16 18:56:01 WARN RandomBlockReplicationPolicy: Expecting 1 replicas with only 0 peer/s.\n",
      "25/08/16 18:56:01 WARN BlockManager: Block input-0-1755363361000 replicated to only 0 peer(s) instead of 1 peers\n"
     ]
    },
    {
     "name": "stdout",
     "output_type": "stream",
     "text": [
      "+---------+--------------------+--------------------+---------+---------------+------------------+--------+--------+---------+-------+-------------+--------------------+\n",
      "|        a|                   b|                   c|        d|              e|                 f|       g|       h|        i|      j|            k|                   l|\n",
      "+---------+--------------------+--------------------+---------+---------------+------------------+--------+--------+---------+-------+-------------+--------------------+\n",
      "|  [\"['79'| 'Coming Into the...|       'John McPhee'|   '4.22'|   '0374522871'|   '9780374522872'|   'eng'|   '448'|   '5704'|  '261'|   '4/1/1991'| 'Farrar  Straus ...|\n",
      "|  [\"['80'| 'La Place de la ...|       'John McPhee'|   '3.92'|   '0374519323'|   '9780374519322'|   'fre'|   '160'|    '698'|   '52'|   '4/1/1994'| 'Farrar  Straus ...|\n",
      "|  [\"['81'| 'Giving Good Wei...|       'John McPhee'|   '4.23'|   '0374516006'|   '9780374516000'|   'eng'|   '288'|    '542'|   '36'|   '4/1/1994'| 'Farrar  Straus ...|\n",
      "|  [\"['83'| 'Rising from the...|       'John McPhee'|   '4.23'|   '0374520658'|   '9780374520656'|   'eng'|   '208'|   '1341'|   '98'|  '11/1/1987'| 'Farrar  Straus ...|\n",
      "|  [\"['85'| 'The Heidi Chron...| 'Wendy Wasserstein'|   '3.75'|   '0822205106'|   '9780822205104'|   'eng'|    '81'|   '1423'|   '70'|   '3/1/2002'| 'Dramatists Play...|\n",
      "|['[\\'86\\'| \"The Heidi Chron...| \\'Wendy Wasserst...| \\'3.84\\'| \\'0679734996\\'| \\'9780679734994\\'| \\'eng\\'| \\'249\\'| \\'2766\\'| \\'64\\'| \\'7/2/1991\\'|      \\'Vintage\\']']|\n",
      "+---------+--------------------+--------------------+---------+---------------+------------------+--------+--------+---------+-------+-------------+--------------------+\n",
      "\n"
     ]
    },
    {
     "name": "stderr",
     "output_type": "stream",
     "text": [
      "25/08/16 18:56:01 WARN RandomBlockReplicationPolicy: Expecting 1 replicas with only 0 peer/s.\n",
      "25/08/16 18:56:01 WARN BlockManager: Block input-0-1755363361400 replicated to only 0 peer(s) instead of 1 peers\n",
      "25/08/16 18:56:02 WARN RandomBlockReplicationPolicy: Expecting 1 replicas with only 0 peer/s.\n",
      "25/08/16 18:56:02 WARN BlockManager: Block input-0-1755363361800 replicated to only 0 peer(s) instead of 1 peers\n",
      "25/08/16 18:56:02 WARN RandomBlockReplicationPolicy: Expecting 1 replicas with only 0 peer/s.\n",
      "25/08/16 18:56:02 WARN BlockManager: Block input-0-1755363362000 replicated to only 0 peer(s) instead of 1 peers\n",
      "25/08/16 18:56:02 WARN RandomBlockReplicationPolicy: Expecting 1 replicas with only 0 peer/s.\n",
      "25/08/16 18:56:02 WARN BlockManager: Block input-0-1755363362200 replicated to only 0 peer(s) instead of 1 peers\n"
     ]
    },
    {
     "name": "stdout",
     "output_type": "stream",
     "text": [
      "+-------+--------------------+--------------------+-------+-------------+----------------+--------+------+-----+----+------------+--------------------+\n",
      "|      a|                   b|                   c|      d|            e|               f|       g|     h|    i|   j|           k|                   l|\n",
      "+-------+--------------------+--------------------+-------+-------------+----------------+--------+------+-----+----+------------+--------------------+\n",
      "|[\"['89'| 'Active Literacy...| 'Heidi Hayes Jac...| '3.94'| '1596670231'| '9781596670235'|   'eng'| '138'| '31'| '1'| '3/29/2006'|      'Routledge']\"]|\n",
      "|[\"['90'| 'Simply Beautifu...|        'Heidi Boyd'| '3.77'| '1581807740'| '9781581807745'| 'en-US'| '128'| '62'| '4'| '3/14/2006'| 'North Light Boo...|\n",
      "+-------+--------------------+--------------------+-------+-------------+----------------+--------+------+-----+----+------------+--------------------+\n",
      "\n"
     ]
    },
    {
     "name": "stderr",
     "output_type": "stream",
     "text": [
      "25/08/16 18:56:03 WARN RandomBlockReplicationPolicy: Expecting 1 replicas with only 0 peer/s.\n",
      "25/08/16 18:56:03 WARN BlockManager: Block input-0-1755363362800 replicated to only 0 peer(s) instead of 1 peers\n",
      "25/08/16 18:56:03 WARN RandomBlockReplicationPolicy: Expecting 1 replicas with only 0 peer/s.\n",
      "25/08/16 18:56:03 WARN BlockManager: Block input-0-1755363363000 replicated to only 0 peer(s) instead of 1 peers\n"
     ]
    },
    {
     "name": "stdout",
     "output_type": "stream",
     "text": [
      "+---------+--------------------+--------------------+---------+---------------+------------------+--------+--------+---------+-------+-------------+--------------------+\n",
      "|        a|                   b|                   c|        d|              e|                 f|       g|       h|        i|      j|            k|                   l|\n",
      "+---------+--------------------+--------------------+---------+---------------+------------------+--------+--------+---------+-------+-------------+--------------------+\n",
      "|['[\\'91\\'| \"Always Enough: ...| \\'Heidi Baker/Ro...| \\'4.46\\'| \\'0800793617\\'| \\'9780800793616\\'| \\'eng\\'| \\'192\\'|  \\'860\\'| \\'53\\'| \\'9/1/2003\\'| \\'Chosen Books\\']']|\n",
      "|  [\"['92'| 'Mapping the Big...| 'Heidi Hayes Jac...|   '3.68'|   '0871202867'|   '9780871202864'| 'en-US'|   '108'|     '77'|    '2'|  '1/28/1997'| 'Association for...|\n",
      "|  [\"['93'| 'Heidi (Heidi  #...| 'Johanna Spyri/B...|   '3.99'|   '0753454947'|   '9780753454947'|   'eng'|   '352'| '153317'| '2257'| '11/15/2002'|     'Kingfisher']\"]|\n",
      "+---------+--------------------+--------------------+---------+---------------+------------------+--------+--------+---------+-------+-------------+--------------------+\n",
      "\n"
     ]
    },
    {
     "name": "stderr",
     "output_type": "stream",
     "text": [
      "25/08/16 18:56:03 WARN RandomBlockReplicationPolicy: Expecting 1 replicas with only 0 peer/s.\n",
      "25/08/16 18:56:03 WARN BlockManager: Block input-0-1755363363400 replicated to only 0 peer(s) instead of 1 peers\n",
      "25/08/16 18:56:04 WARN RandomBlockReplicationPolicy: Expecting 1 replicas with only 0 peer/s.\n",
      "25/08/16 18:56:04 WARN BlockManager: Block input-0-1755363363800 replicated to only 0 peer(s) instead of 1 peers\n",
      "                                                                                \r"
     ]
    },
    {
     "name": "stdout",
     "output_type": "stream",
     "text": [
      "+---------+--------------------+--------------------+---------+---------------+------------------+--------+--------+--------+------+--------------+--------------------+\n",
      "|        a|                   b|                   c|        d|              e|                 f|       g|       h|       i|     j|             k|                   l|\n",
      "+---------+--------------------+--------------------+---------+---------------+------------------+--------+--------+--------+------+--------------+--------------------+\n",
      "|  [\"['94'| 'Getting Results...| 'Heidi Hayes Jac...|   '3.25'|   '0871209993'|   '9780871209993'|   'eng'|   '192'|    '55'|   '5'|  '11/15/2004'|           'ASCD']\"]|\n",
      "|['[\\'96\\'| \"There\\'s Always...| \\'Rolland Baker/...| \\'4.46\\'| \\'1852402873\\'| \\'9781852402877\\'| \\'eng\\'| \\'192\\'|  \\'34\\'| \\'6\\'| \\'4/28/2003\\'| \\'Sovereign Worl...|\n",
      "|  [\"['98'| 'What to Expect ...| 'Heidi Murkoff/S...|   '3.89'|   '0761129588'|   '9780761129585'|   'eng'|   '832'| '11797'| '659'|  '10/16/2003'| 'Workman Publish...|\n",
      "+---------+--------------------+--------------------+---------+---------------+------------------+--------+--------+--------+------+--------------+--------------------+\n",
      "\n"
     ]
    },
    {
     "name": "stderr",
     "output_type": "stream",
     "text": [
      "25/08/16 18:56:04 WARN RandomBlockReplicationPolicy: Expecting 1 replicas with only 0 peer/s.\n",
      "25/08/16 18:56:04 WARN BlockManager: Block input-0-1755363364200 replicated to only 0 peer(s) instead of 1 peers\n",
      "25/08/16 18:56:04 WARN RandomBlockReplicationPolicy: Expecting 1 replicas with only 0 peer/s.\n",
      "25/08/16 18:56:04 WARN BlockManager: Block input-0-1755363364600 replicated to only 0 peer(s) instead of 1 peers\n",
      "25/08/16 18:56:05 WARN RandomBlockReplicationPolicy: Expecting 1 replicas with only 0 peer/s.\n",
      "25/08/16 18:56:05 WARN BlockManager: Block input-0-1755363365000 replicated to only 0 peer(s) instead of 1 peers\n"
     ]
    },
    {
     "name": "stdout",
     "output_type": "stream",
     "text": [
      "+---------+--------------------+--------------------+---------+---------------+------------------+--------+--------+-------+------+--------------+--------------------+\n",
      "|        a|                   b|                   c|        d|              e|                 f|       g|       h|      i|     j|             k|                   l|\n",
      "+---------+--------------------+--------------------+---------+---------------+------------------+--------+--------+-------+------+--------------+--------------------+\n",
      "|['[\\'99\\'| \"The Player\\'s H...| \\'Heidi Fleiss/L...| \\'3.82\\'| \\'0972016414\\'| \\'9780972016414\\'| \\'eng\\'| \\'123\\'| \\'34\\'| \\'8\\'| \\'5/10/2004\\'| \\'One Hour Enter...|\n",
      "| [\"['100'| 'Simply Beautifu...|        'Heidi Boyd'|   '3.78'|   '1581805632'|   '9781581805635'| 'en-US'|   '128'|   '78'|   '4'|   '8/19/2004'| 'North Light Boo...|\n",
      "| [\"['103'| 'God Emperor of ...|     'Frank Herbert'|   '3.84'|   '0441294677'|   '9780441294671'|   'eng'|   '423'| '2785'| '166'|   '6/15/1987'|      'Ace Books']\"]|\n",
      "+---------+--------------------+--------------------+---------+---------------+------------------+--------+--------+-------+------+--------------+--------------------+\n",
      "\n"
     ]
    },
    {
     "name": "stderr",
     "output_type": "stream",
     "text": [
      "25/08/16 18:56:05 WARN RandomBlockReplicationPolicy: Expecting 1 replicas with only 0 peer/s.\n",
      "25/08/16 18:56:05 WARN BlockManager: Block input-0-1755363365200 replicated to only 0 peer(s) instead of 1 peers\n",
      "25/08/16 18:56:06 WARN RandomBlockReplicationPolicy: Expecting 1 replicas with only 0 peer/s.\n",
      "25/08/16 18:56:06 WARN BlockManager: Block input-0-1755363365800 replicated to only 0 peer(s) instead of 1 peers\n",
      "                                                                                \r"
     ]
    },
    {
     "name": "stdout",
     "output_type": "stream",
     "text": [
      "+--------+--------------------+----------------+-------+-------------+----------------+--------+------+--------+-------+------------+---------------+\n",
      "|       a|                   b|               c|      d|            e|               f|       g|     h|       i|      j|           k|              l|\n",
      "+--------+--------------------+----------------+-------+-------------+----------------+--------+------+--------+-------+------------+---------------+\n",
      "|[\"['105'| 'Chapterhouse: D...| 'Frank Herbert'| '3.91'| '0441102670'| '9780441102679'|   'eng'| '436'| '38778'|  '568'|  '7/1/1987'| 'Ace Books']\"]|\n",
      "|[\"['106'| 'Dune Messiah (D...| 'Frank Herbert'| '3.88'| '0441172695'| '9780441172696'|   'eng'| '331'| '97494'| '2359'| '7/15/1987'| 'Ace Books']\"]|\n",
      "|[\"['107'| 'Dreamer of Dune...| 'Brian Herbert'| '4.01'| '0765306476'| '9780765306470'| 'en-US'| '592'|   '784'|   '21'|  '7/1/2004'| 'Tor Books']\"]|\n",
      "|[\"['109'| 'Heretics of Dun...| 'Frank Herbert'| '3.86'| '0399128980'| '9780399128981'|   'eng'| '480'|   '272'|   '20'| '4/16/1984'|    'Putnam']\"]|\n",
      "+--------+--------------------+----------------+-------+-------------+----------------+--------+------+--------+-------+------------+---------------+\n",
      "\n"
     ]
    },
    {
     "name": "stderr",
     "output_type": "stream",
     "text": [
      "25/08/16 18:56:06 WARN RandomBlockReplicationPolicy: Expecting 1 replicas with only 0 peer/s.\n",
      "25/08/16 18:56:06 WARN BlockManager: Block input-0-1755363366200 replicated to only 0 peer(s) instead of 1 peers\n",
      "25/08/16 18:56:06 WARN RandomBlockReplicationPolicy: Expecting 1 replicas with only 0 peer/s.\n",
      "25/08/16 18:56:06 WARN BlockManager: Block input-0-1755363366400 replicated to only 0 peer(s) instead of 1 peers\n",
      "25/08/16 18:56:06 WARN RandomBlockReplicationPolicy: Expecting 1 replicas with only 0 peer/s.\n",
      "25/08/16 18:56:06 WARN BlockManager: Block input-0-1755363366600 replicated to only 0 peer(s) instead of 1 peers\n",
      "25/08/16 18:56:07 WARN RandomBlockReplicationPolicy: Expecting 1 replicas with only 0 peer/s.\n",
      "25/08/16 18:56:07 WARN BlockManager: Block input-0-1755363366800 replicated to only 0 peer(s) instead of 1 peers\n",
      "25/08/16 18:56:07 WARN RandomBlockReplicationPolicy: Expecting 1 replicas with only 0 peer/s.\n",
      "25/08/16 18:56:07 WARN BlockManager: Block input-0-1755363367000 replicated to only 0 peer(s) instead of 1 peers\n",
      "25/08/16 18:56:07 WARN RandomBlockReplicationPolicy: Expecting 1 replicas with only 0 peer/s.\n",
      "25/08/16 18:56:07 WARN BlockManager: Block input-0-1755363367200 replicated to only 0 peer(s) instead of 1 peers\n"
     ]
    },
    {
     "name": "stdout",
     "output_type": "stream",
     "text": [
      "+--------+--------------------+--------------------+-------+-------------+----------------+--------+------+--------+-------+------------+--------------------+\n",
      "|       a|                   b|                   c|      d|            e|               f|       g|     h|       i|      j|           k|                   l|\n",
      "+--------+--------------------+--------------------+-------+-------------+----------------+--------+------+--------+-------+------------+--------------------+\n",
      "|[\"['110'|  'The Road to Dune'| 'Frank Herbert/B...| '3.88'| '0765353709'| '9780765353702'|   'eng'| '426'|  '4789'|   '83'| '8/29/2006'| 'Tor Science Fic...|\n",
      "|[\"['117'| 'Heretics of Dun...|     'Frank Herbert'| '3.86'| '0441328008'| '9780441328000'|   'eng'| '471'| '45388'|  '644'| '8/15/1987'|      'Ace Books']\"]|\n",
      "|[\"['119'| 'The Lord of the...|      'Gary Russell'| '4.59'| '0618212906'| '9780618212903'|   'eng'| '192'| '26153'|  '102'| '6/12/2002'| 'Houghton Miffli...|\n",
      "|[\"['122'| 'The Power of On...|   'Bryce Courtenay'| '4.35'| '034541005X'| '9780345410054'|   'eng'| '544'| '69167'| '4551'| '9/29/1996'| 'Ballantine Book...|\n",
      "|[\"['123'| 'The Power of On...|   'Bryce Courtenay'| '4.35'| '0385732546'| '9780385732543'|   'eng'| '291'|    '45'|   '13'| '9/13/2005'| 'Delacorte Books...|\n",
      "|[\"['129'| 'The Power of On...| 'John C. Maxwell...| '4.28'| '0785260056'| '9780785260059'| 'en-US'| '256'|    '16'|    '1'| '11/1/2004'|  'Thomas Nelson']\"]|\n",
      "+--------+--------------------+--------------------+-------+-------------+----------------+--------+------+--------+-------+------------+--------------------+\n",
      "\n"
     ]
    },
    {
     "name": "stderr",
     "output_type": "stream",
     "text": [
      "25/08/16 18:56:07 WARN RandomBlockReplicationPolicy: Expecting 1 replicas with only 0 peer/s.\n",
      "25/08/16 18:56:07 WARN BlockManager: Block input-0-1755363367400 replicated to only 0 peer(s) instead of 1 peers\n",
      "25/08/16 18:56:08 WARN RandomBlockReplicationPolicy: Expecting 1 replicas with only 0 peer/s.\n",
      "25/08/16 18:56:08 WARN BlockManager: Block input-0-1755363367800 replicated to only 0 peer(s) instead of 1 peers\n",
      "25/08/16 18:56:08 WARN RandomBlockReplicationPolicy: Expecting 1 replicas with only 0 peer/s.\n",
      "25/08/16 18:56:08 WARN BlockManager: Block input-0-1755363368000 replicated to only 0 peer(s) instead of 1 peers\n",
      "25/08/16 18:56:08 WARN RandomBlockReplicationPolicy: Expecting 1 replicas with only 0 peer/s.\n",
      "25/08/16 18:56:08 WARN BlockManager: Block input-0-1755363368200 replicated to only 0 peer(s) instead of 1 peers\n"
     ]
    },
    {
     "name": "stdout",
     "output_type": "stream",
     "text": [
      "+--------+--------------------+--------------------+-------+-------------+----------------+------+------+------+-----+-------------+--------------------+\n",
      "|       a|                   b|                   c|      d|            e|               f|     g|     h|     i|    j|            k|                   l|\n",
      "+--------+--------------------+--------------------+-------+-------------+----------------+------+------+------+-----+-------------+--------------------+\n",
      "|[\"['130'| 'Power of an Hou...|      'Dave Lakhani'| '3.34'| '0471780936'| '9780471780939'| 'eng'| '205'| '174'| '16'|  '5/19/2006'|          'Wiley']\"]|\n",
      "|[\"['131'| 'The Power of On...|   'Louis E. Catron'| '3.67'| '0325001537'| '9780325001531'| 'eng'| '240'|  '10'|  '0'|   '2/7/2000'| 'Heinemann Drama...|\n",
      "|[\"['132'| 'How to Buy  Sel...|     'Adam Ginsberg'| '3.48'| '006076287X'| '9780060762872'| 'eng'| '336'|  '76'|  '9'|   '5/3/2005'| 'William Morrow ...|\n",
      "|[\"['133'|  'eBay for Dummies'|    'Marsha Collier'| '3.50'| '0470045299'| '9780470045299'| 'eng'| '386'| '111'|  '9'| '10/30/2006'|          'Wiley']\"]|\n",
      "|[\"['135'| 'What to Sell on...| 'Chris Malta/Lis...| '3.62'| '0072262788'| '9780072262780'| 'eng'| '260'|  '24'|  '0'|  '1/24/2006'|    'McGraw-Hill']\"]|\n",
      "+--------+--------------------+--------------------+-------+-------------+----------------+------+------+------+-----+-------------+--------------------+\n",
      "\n"
     ]
    },
    {
     "name": "stderr",
     "output_type": "stream",
     "text": [
      "25/08/16 18:56:08 WARN RandomBlockReplicationPolicy: Expecting 1 replicas with only 0 peer/s.\n",
      "25/08/16 18:56:08 WARN BlockManager: Block input-0-1755363368600 replicated to only 0 peer(s) instead of 1 peers\n",
      "25/08/16 18:56:09 WARN RandomBlockReplicationPolicy: Expecting 1 replicas with only 0 peer/s.\n",
      "25/08/16 18:56:09 WARN BlockManager: Block input-0-1755363369000 replicated to only 0 peer(s) instead of 1 peers\n"
     ]
    },
    {
     "name": "stdout",
     "output_type": "stream",
     "text": [
      "+--------+--------------------+------------------+-------+-------------+----------------+--------+------+-----+----+------------+-----------+\n",
      "|       a|                   b|                 c|      d|            e|               f|       g|     h|    i|   j|           k|          l|\n",
      "+--------+--------------------+------------------+-------+-------------+----------------+--------+------+-----+----+------------+-----------+\n",
      "|[\"['137'| 'Starting an eBa...|  'Marsha Collier'| '3.55'| '0764569244'| '9780764569241'|   'eng'| '384'| '55'| '4'| '9/17/2004'| 'Wiley']\"]|\n",
      "|[\"['138'| 'eBay: Top 100 S...| 'Julia Wilkinson'| '4.27'| '0471933821'| '9780471933823'|   'eng'| '260'|  '9'| '0'|  '6/6/2006'| 'Wiley']\"]|\n",
      "|[\"['139'| 'ebay Timesaving...|  'Marsha Collier'| '3.39'| '0764559915'| '9780764559914'| 'en-US'| '391'| '22'| '1'| '5/31/2004'| 'Wiley']\"]|\n",
      "|[\"['140'| 'eBay Business A...|  'Marsha Collier'| '3.89'| '0764584383'| '9780764584381'| 'en-US'| '864'| '17'| '3'| '4/25/2005'| 'Wiley']\"]|\n",
      "+--------+--------------------+------------------+-------+-------------+----------------+--------+------+-----+----+------------+-----------+\n",
      "\n"
     ]
    },
    {
     "name": "stderr",
     "output_type": "stream",
     "text": [
      "25/08/16 18:56:09 WARN RandomBlockReplicationPolicy: Expecting 1 replicas with only 0 peer/s.\n",
      "25/08/16 18:56:09 WARN BlockManager: Block input-0-1755363369400 replicated to only 0 peer(s) instead of 1 peers\n",
      "25/08/16 18:56:10 WARN RandomBlockReplicationPolicy: Expecting 1 replicas with only 0 peer/s.\n",
      "25/08/16 18:56:10 WARN BlockManager: Block input-0-1755363369800 replicated to only 0 peer(s) instead of 1 peers\n",
      "25/08/16 18:56:10 WARN RandomBlockReplicationPolicy: Expecting 1 replicas with only 0 peer/s.\n",
      "25/08/16 18:56:10 WARN BlockManager: Block input-0-1755363370000 replicated to only 0 peer(s) instead of 1 peers\n"
     ]
    },
    {
     "name": "stdout",
     "output_type": "stream",
     "text": [
      "+----------+--------------------+--------------------+---------+---------------+------------------+--------+--------+--------+------+--------------+--------------------+\n",
      "|         a|                   b|                   c|        d|              e|                 f|       g|       h|       i|     j|             k|                   l|\n",
      "+----------+--------------------+--------------------+---------+---------------+------------------+--------+--------+--------+------+--------------+--------------------+\n",
      "|['[\\'141\\'|   \\'Ruby Cookbook\\'| \\'Lucas Carlson/...| \\'3.84\\'| \\'0596523696\\'| \\'9780596523695\\'| \\'eng\\'| \\'873\\'| \\'166\\'| \\'4\\'| \\'7/29/2006\\'| \"O\\'Reilly Media...|\n",
      "|['[\\'142\\'| \"Ruby Ann\\'s Dow...| \\'Ruby Ann Boxcar\\'| \\'4.12\\'| \\'0806523492\\'| \\'9780806523491\\'| \\'eng\\'| \\'240\\'|  \\'50\\'| \\'5\\'|  \\'5/3/2005\\'|      \\'Citadel\\']']|\n",
      "+----------+--------------------+--------------------+---------+---------------+------------------+--------+--------+--------+------+--------------+--------------------+\n",
      "\n"
     ]
    },
    {
     "name": "stderr",
     "output_type": "stream",
     "text": [
      "25/08/16 18:56:10 WARN RandomBlockReplicationPolicy: Expecting 1 replicas with only 0 peer/s.\n",
      "25/08/16 18:56:10 WARN BlockManager: Block input-0-1755363370200 replicated to only 0 peer(s) instead of 1 peers\n",
      "25/08/16 18:56:10 WARN RandomBlockReplicationPolicy: Expecting 1 replicas with only 0 peer/s.\n",
      "25/08/16 18:56:10 WARN BlockManager: Block input-0-1755363370600 replicated to only 0 peer(s) instead of 1 peers\n",
      "25/08/16 18:56:11 WARN RandomBlockReplicationPolicy: Expecting 1 replicas with only 0 peer/s.\n",
      "25/08/16 18:56:11 WARN BlockManager: Block input-0-1755363370800 replicated to only 0 peer(s) instead of 1 peers\n",
      "25/08/16 18:56:11 WARN RandomBlockReplicationPolicy: Expecting 1 replicas with only 0 peer/s.\n",
      "25/08/16 18:56:11 WARN BlockManager: Block input-0-1755363371200 replicated to only 0 peer(s) instead of 1 peers\n",
      "25/08/16 18:56:11 WARN RandomBlockReplicationPolicy: Expecting 1 replicas with only 0 peer/s.\n",
      "25/08/16 18:56:11 WARN BlockManager: Block input-0-1755363371400 replicated to only 0 peer(s) instead of 1 peers\n"
     ]
    },
    {
     "name": "stdout",
     "output_type": "stream",
     "text": [
      "+----------+--------------------+--------------------+---------+---------------+------------------+--------+--------+---------+-------+---------------+--------------------+\n",
      "|         a|                   b|                   c|        d|              e|                 f|       g|       h|        i|      j|              k|                   l|\n",
      "+----------+--------------------+--------------------+---------+---------------+------------------+--------+--------+---------+-------+---------------+--------------------+\n",
      "|['[\\'144\\'| \"Ruby Ann\\'s Dow...| \\'Ruby Ann Boxcar\\'| \\'4.08\\'| \\'0806525363\\'| \\'9780806525365\\'| \\'eng\\'| \\'206\\'|   \\'13\\'|  \\'2\\'|   \\'5/3/2005\\'|      \\'Citadel\\']']|\n",
      "|['[\\'147\\'| \\'Rails Cookbook...|      \\'Rob Orsini\\'| \\'3.48\\'| \\'0596527314\\'| \\'9780596527310\\'| \\'eng\\'| \\'514\\'|   \\'64\\'|  \\'1\\'|   \\'1/1/2007\\'| \"O\\'Reilly Media...|\n",
      "|  [\"['151'|     'Anna Karenina'| 'Leo Tolstoy/Ric...|   '4.05'|   '0143035002'|   '9780143035008'|   'eng'|   '838'|  '16643'| '1851'|    '5/31/2004'| 'Penguin Classic...|\n",
      "|  [\"['152'|     'Anna Karenina'| 'Leo Tolstoy/Dav...|   '4.05'|   '0451528611'|   '9780451528612'|   'eng'|   '960'| '109420'| '5696'|    '11/5/2002'|         'Signet']\"]|\n",
      "|  [\"['153'|     'Anna Karenina'| 'Leo Tolstoy/Ric...|   '4.05'|   '0140449175'|   '9780140449174'|   'eng'|   '837'|   '2904'|  '309'|    '1/30/2003'|  'Penguin Books']\"]|\n",
      "|['[\\'154\\'| \"CliffsNotes on ...| \\'Marianne Sturm...| \\'3.85\\'| \\'0822001837\\'| \\'9780822001836\\'| \\'eng\\'|  \\'80\\'|   \\'16\\'|  \\'3\\'| \\'11/26/1965\\'| \\'Cliffs Notes\\']']|\n",
      "+----------+--------------------+--------------------+---------+---------------+------------------+--------+--------+---------+-------+---------------+--------------------+\n",
      "\n"
     ]
    },
    {
     "name": "stderr",
     "output_type": "stream",
     "text": [
      "25/08/16 18:56:11 WARN RandomBlockReplicationPolicy: Expecting 1 replicas with only 0 peer/s.\n",
      "25/08/16 18:56:11 WARN BlockManager: Block input-0-1755363371600 replicated to only 0 peer(s) instead of 1 peers\n",
      "25/08/16 18:56:12 WARN RandomBlockReplicationPolicy: Expecting 1 replicas with only 0 peer/s.\n",
      "25/08/16 18:56:12 WARN BlockManager: Block input-0-1755363372000 replicated to only 0 peer(s) instead of 1 peers\n"
     ]
    },
    {
     "name": "stdout",
     "output_type": "stream",
     "text": [
      "+--------+--------------------+--------------------+-------+-------------+----------------+------+------+-------+------+-------------+--------------------+\n",
      "|       a|                   b|                   c|      d|            e|               f|     g|     h|      i|     j|            k|                   l|\n",
      "+--------+--------------------+--------------------+-------+-------------+----------------+------+------+-------+------+-------------+--------------------+\n",
      "|[\"['155'|     'Anna Karenina'| 'Leo Tolstoy/Amy...| '4.05'| '1593080271'| '9781593080273'| 'eng'| '803'| '9564'| '726'|   '7/1/2003'| 'Barnes & Noble ...|\n",
      "|[\"['156'|     'Anna Karenina'| 'Leo Tolstoy/Lou...| '4.05'| '0486437965'| '9780486437965'| 'eng'| '752'|  '474'|  '72'| '11/23/2004'| 'Dover Publicati...|\n",
      "|[\"['157'|     'Anna Karenina'| 'Leo Tolstoy/Con...| '4.05'| '1593081774'| '9781593081775'| 'eng'| '803'|  '303'|  '48'|  '8/26/2004'| 'Barnes & Noble']\"]|\n",
      "|[\"['159'| 'Dinner with Ann...|  'Gloria Goldreich'| '2.99'| '0778322270'| '9780778322276'| 'eng'| '360'|  '411'|  '65'|  '1/28/2006'|     'Mira Books']\"]|\n",
      "|[\"['160'| 'Tolstoy: Anna K...|   'Anthony Thorlby'| '4.19'| '0521313252'| '9780521313254'| 'eng'| '128'| '1204'|  '33'| '11/26/1987'| 'Cambridge Unive...|\n",
      "|[\"['162'|       'Untouchable'| 'Mulk Raj Anand/...| '3.71'| '0140183957'| '9780140183955'| 'eng'| '160'| '3429'| '279'|   '7/3/1990'|  'Penguin Books']\"]|\n",
      "+--------+--------------------+--------------------+-------+-------------+----------------+------+------+-------+------+-------------+--------------------+\n",
      "\n"
     ]
    },
    {
     "name": "stderr",
     "output_type": "stream",
     "text": [
      "25/08/16 18:56:12 WARN RandomBlockReplicationPolicy: Expecting 1 replicas with only 0 peer/s.\n",
      "25/08/16 18:56:12 WARN BlockManager: Block input-0-1755363372400 replicated to only 0 peer(s) instead of 1 peers\n",
      "25/08/16 18:56:12 WARN RandomBlockReplicationPolicy: Expecting 1 replicas with only 0 peer/s.\n",
      "25/08/16 18:56:12 WARN BlockManager: Block input-0-1755363372600 replicated to only 0 peer(s) instead of 1 peers\n",
      "25/08/16 18:56:13 WARN RandomBlockReplicationPolicy: Expecting 1 replicas with only 0 peer/s.\n",
      "25/08/16 18:56:13 WARN BlockManager: Block input-0-1755363372800 replicated to only 0 peer(s) instead of 1 peers\n",
      "                                                                                \r"
     ]
    },
    {
     "name": "stdout",
     "output_type": "stream",
     "text": [
      "+----------+--------------------+--------------------+---------+---------------+------------------+----------+--------+--------+-------+--------------+--------------------+\n",
      "|         a|                   b|                   c|        d|              e|                 f|         g|       h|       i|      j|             k|                   l|\n",
      "+----------+--------------------+--------------------+---------+---------------+------------------+----------+--------+--------+-------+--------------+--------------------+\n",
      "|  [\"['163'|   'The Untouchable'|     'John Banville'|   '3.95'|   '0679767479'|   '9780679767473'|     'eng'|   '367'|  '2163'|  '216'|   '6/30/1998'|        'Vintage']\"]|\n",
      "|  [\"['164'|  'The Untouchables'| 'Eliot Ness/Osca...|   '3.89'|   '1568491980'|   '9781568491981'|     'eng'|   '256'|   '613'|   '31'|    '2/1/1996'| 'Buccaneer Books...|\n",
      "|['[\\'165\\'| \"Untouchables: M...| \\'Narendra Jadhav\\'| \\'3.82\\'| \\'0743270797\\'| \\'9780743270793\\'| \\'en-US\\'| \\'320\\'| \\'308\\'| \\'40\\'| \\'9/27/2005\\'|     \\'Scribner\\']']|\n",
      "|  [\"['166'| 'Dalit: The Blac...| 'V.T. Rajshekar/...|   '4.20'|   '0932863051'|   '9780932863058'|     'eng'|   '100'|    '10'|    '0'|   '1/28/1995'|  'Clarity Press']\"]|\n",
      "|  [\"['168'| 'Growing Up Unto...| 'Vasant Moon/Gai...|   '3.65'|   '0742508803'|   '9780742508804'|     'eng'|   '224'|    '16'|    '4'|  '12/20/2000'| 'Rowman & Little...|\n",
      "|  [\"['171'| 'The Evidence-Ba...| 'Barry R. Courno...|   '3.40'|   '0205358624'|   '9780205358625'|     'eng'|   '216'|    '10'|    '0'|   '9/22/2003'|        'Pearson']\"]|\n",
      "+----------+--------------------+--------------------+---------+---------------+------------------+----------+--------+--------+-------+--------------+--------------------+\n",
      "\n"
     ]
    },
    {
     "name": "stderr",
     "output_type": "stream",
     "text": [
      "25/08/16 18:56:13 WARN RandomBlockReplicationPolicy: Expecting 1 replicas with only 0 peer/s.\n",
      "25/08/16 18:56:13 WARN BlockManager: Block input-0-1755363373200 replicated to only 0 peer(s) instead of 1 peers\n",
      "25/08/16 18:56:13 WARN RandomBlockReplicationPolicy: Expecting 1 replicas with only 0 peer/s.\n",
      "25/08/16 18:56:13 WARN BlockManager: Block input-0-1755363373600 replicated to only 0 peer(s) instead of 1 peers\n",
      "25/08/16 18:56:14 WARN RandomBlockReplicationPolicy: Expecting 1 replicas with only 0 peer/s.\n",
      "25/08/16 18:56:14 WARN BlockManager: Block input-0-1755363373800 replicated to only 0 peer(s) instead of 1 peers\n",
      "25/08/16 18:56:14 WARN RandomBlockReplicationPolicy: Expecting 1 replicas with only 0 peer/s.\n",
      "25/08/16 18:56:14 WARN BlockManager: Block input-0-1755363374000 replicated to only 0 peer(s) instead of 1 peers\n"
     ]
    },
    {
     "name": "stdout",
     "output_type": "stream",
     "text": [
      "+----------+--------------------+--------------------+---------+---------------+------------------+--------+--------+-------+------+--------------+--------------------+\n",
      "|         a|                   b|                   c|        d|              e|                 f|       g|       h|      i|     j|             k|                   l|\n",
      "+----------+--------------------+--------------------+---------+---------------+------------------+--------+--------+-------+------+--------------+--------------------+\n",
      "|['[\\'177\\'| \\'A Wrinkle in T...| \\'John Carratell...| \\'4.00\\'| \\'1557344035\\'| \\'9781557344038\\'| \\'eng\\'|  \\'48\\'| \\'17\\'| \\'0\\'| \\'9/28/1991\\'| \\'Teacher Create...|\n",
      "|  [\"['180'|  'Wrinkles in Time'| 'George Smoot/Ke...|   '4.01'|   '0380720442'|   '9780380720446'|   'eng'|   '360'| '1035'|  '23'|   '10/1/1994'| 'Harper Perennia...|\n",
      "|['[\\'181\\'| \\'A Wrinkle in T...| \"Madeleine L\\'En...| \\'4.00\\'| \\'0821925326\\'| \\'9780821925324\\'| \\'eng\\'| \\'250\\'| \\'36\\'| \\'6\\'|  \\'5/1/2002\\'| \\'EMC/Paradigm P...|\n",
      "+----------+--------------------+--------------------+---------+---------------+------------------+--------+--------+-------+------+--------------+--------------------+\n",
      "\n"
     ]
    },
    {
     "name": "stderr",
     "output_type": "stream",
     "text": [
      "25/08/16 18:56:14 WARN RandomBlockReplicationPolicy: Expecting 1 replicas with only 0 peer/s.\n",
      "25/08/16 18:56:14 WARN BlockManager: Block input-0-1755363374400 replicated to only 0 peer(s) instead of 1 peers\n",
      "25/08/16 18:56:15 WARN RandomBlockReplicationPolicy: Expecting 1 replicas with only 0 peer/s.\n",
      "25/08/16 18:56:15 WARN BlockManager: Block input-0-1755363374800 replicated to only 0 peer(s) instead of 1 peers\n",
      "                                                                                \r"
     ]
    },
    {
     "name": "stdout",
     "output_type": "stream",
     "text": [
      "+----------+--------------------+--------------------+---------+---------------+------------------+--------+--------+------+------+-------------+--------------------+\n",
      "|         a|                   b|                   c|        d|              e|                 f|       g|       h|     i|     j|            k|                   l|\n",
      "+----------+--------------------+--------------------+---------+---------------+------------------+--------+--------+------+------+-------------+--------------------+\n",
      "|  [\"['182'| 'Literature Circ...|    'Tara MacCarthy'|   '3.60'|   '043927169X'|   '9780439271691'|   'eng'|    '32'|  '15'|   '0'|   '1/1/2002'| 'Teaching Resour...|\n",
      "|['[\\'201\\'| \\'Una arruga en ...| \"Madeleine L\\'En...| \\'4.00\\'| \\'0606105263\\'| \\'9780606105262\\'| \\'spa\\'| \\'205\\'| \\'6\\'| \\'1\\'| \\'6/1/1984\\'| \\'Turtleback Boo...|\n",
      "|  [\"['204'| 'The Long Shadow...| 'Cynthia Harrod-...|   '4.12'|   '0751506435'|   '9780751506433'|   'eng'|   '367'| '376'|  '17'|   '6/1/1994'| 'Little  Brown B...|\n",
      "+----------+--------------------+--------------------+---------+---------------+------------------+--------+--------+------+------+-------------+--------------------+\n",
      "\n"
     ]
    },
    {
     "name": "stderr",
     "output_type": "stream",
     "text": [
      "25/08/16 18:56:15 WARN RandomBlockReplicationPolicy: Expecting 1 replicas with only 0 peer/s.\n",
      "25/08/16 18:56:15 WARN BlockManager: Block input-0-1755363375400 replicated to only 0 peer(s) instead of 1 peers\n",
      "25/08/16 18:56:15 WARN RandomBlockReplicationPolicy: Expecting 1 replicas with only 0 peer/s.\n",
      "25/08/16 18:56:15 WARN BlockManager: Block input-0-1755363375600 replicated to only 0 peer(s) instead of 1 peers\n",
      "25/08/16 18:56:16 WARN RandomBlockReplicationPolicy: Expecting 1 replicas with only 0 peer/s.\n",
      "25/08/16 18:56:16 WARN BlockManager: Block input-0-1755363376000 replicated to only 0 peer(s) instead of 1 peers\n"
     ]
    },
    {
     "name": "stdout",
     "output_type": "stream",
     "text": [
      "+--------+--------------------+--------------------+-------+-------------+----------------+--------+------+-------+------+------------+--------------------+\n",
      "|       a|                   b|                   c|      d|            e|               f|       g|     h|      i|     j|           k|                   l|\n",
      "+--------+--------------------+--------------------+-------+-------------+----------------+--------+------+-------+------+------------+--------------------+\n",
      "|[\"['205'| 'A Long Shadow (...|      'Charles Todd'| '4.11'| '006078671X'| '9780060786717'|   'eng'| '352'| '3086'| '237'|  '1/3/2006'| 'William Morrow']\"]|\n",
      "|[\"['207'| 'Long Way Round:...| 'Ewan McGregor/C...| '3.94'| '0743499344'| '9780743499347'| 'en-US'| '320'|  '352'|  '44'| '11/1/2005'|    'Atria Books']\"]|\n",
      "|[\"['208'| 'A Shadow in Sum...|    'Daniel Abraham'| '3.60'| '0765313405'| '9780765313409'|   'eng'| '331'| '9852'| '633'|  '3/7/2006'|      'Tor Books']\"]|\n",
      "|[\"['213'| 'New Hope for th...| 'Charles Willefo...| '3.90'| '1400032490'| '9781400032495'|   'eng'| '244'|  '821'|  '78'| '8/10/2004'| 'Vintage Crime/B...|\n",
      "+--------+--------------------+--------------------+-------+-------------+----------------+--------+------+-------+------+------------+--------------------+\n",
      "\n"
     ]
    },
    {
     "name": "stderr",
     "output_type": "stream",
     "text": [
      "25/08/16 18:56:16 WARN RandomBlockReplicationPolicy: Expecting 1 replicas with only 0 peer/s.\n",
      "25/08/16 18:56:16 WARN BlockManager: Block input-0-1755363376600 replicated to only 0 peer(s) instead of 1 peers\n",
      "25/08/16 18:56:17 WARN RandomBlockReplicationPolicy: Expecting 1 replicas with only 0 peer/s.\n",
      "25/08/16 18:56:17 WARN BlockManager: Block input-0-1755363377000 replicated to only 0 peer(s) instead of 1 peers\n"
     ]
    },
    {
     "name": "stdout",
     "output_type": "stream",
     "text": [
      "+--------+--------------------+--------------------+-------+-------------+----------------+------+------+-------+------+------------+--------------------+\n",
      "|       a|                   b|                   c|      d|            e|               f|     g|     h|      i|     j|           k|                   l|\n",
      "+--------+--------------------+--------------------+-------+-------------+----------------+------+------+-------+------+------------+--------------------+\n",
      "|[\"['214'| 'Sideswipe: A Ho...| 'Charles Willefo...| '4.05'| '1400032482'| '9781400032488'| 'eng'| '215'|  '731'|  '72'|  '3/8/2005'| 'Vintage Crime/B...|\n",
      "|[\"['216'| 'Miami Blues (Ho...| 'Charles Willefo...| '3.94'| '1400032466'| '9781400032464'| 'eng'| '191'| '2897'| '178'| '8/10/2004'| 'Vintage Crime/B...|\n",
      "|[\"['230'| 'The Burnt Orang...| 'Charles Willeford'| '3.89'| '0679732527'| '9780679732525'| 'eng'| '144'|   '98'|  '11'| '10/3/1990'|        'Vintage']\"]|\n",
      "+--------+--------------------+--------------------+-------+-------------+----------------+------+------+-------+------+------------+--------------------+\n",
      "\n"
     ]
    },
    {
     "name": "stderr",
     "output_type": "stream",
     "text": [
      "25/08/16 18:56:17 WARN RandomBlockReplicationPolicy: Expecting 1 replicas with only 0 peer/s.\n",
      "25/08/16 18:56:17 WARN BlockManager: Block input-0-1755363377400 replicated to only 0 peer(s) instead of 1 peers\n",
      "25/08/16 18:56:18 WARN RandomBlockReplicationPolicy: Expecting 1 replicas with only 0 peer/s.\n",
      "25/08/16 18:56:18 WARN BlockManager: Block input-0-1755363377800 replicated to only 0 peer(s) instead of 1 peers\n",
      "25/08/16 18:56:18 WARN RandomBlockReplicationPolicy: Expecting 1 replicas with only 0 peer/s.\n",
      "25/08/16 18:56:18 WARN BlockManager: Block input-0-1755363378000 replicated to only 0 peer(s) instead of 1 peers\n"
     ]
    },
    {
     "name": "stdout",
     "output_type": "stream",
     "text": [
      "+--------+--------------------+--------------------+-------+-------------+----------------+------+------+--------+-------+------------+-----------------+\n",
      "|       a|                   b|                   c|      d|            e|               f|     g|     h|       i|      j|           k|                l|\n",
      "+--------+--------------------+--------------------+-------+-------------+----------------+------+------+--------+-------+------------+-----------------+\n",
      "|[\"['231'| 'I am Charlotte ...|         'Tom Wolfe'| '3.42'| '0312424442'| '9780312424442'| 'eng'| '738'| '20888'| '1688'| '8/30/2005'| 'Picador USA']\"]|\n",
      "|[\"['237'| 'Poetry for Youn...| 'Edward Lear/Lau...| '3.91'| '0806930772'| '9780806930770'| 'eng'|  '48'|    '66'|   '19'| '10/1/2001'|    'Sterling']\"]|\n",
      "+--------+--------------------+--------------------+-------+-------------+----------------+------+------+--------+-------+------------+-----------------+\n",
      "\n"
     ]
    },
    {
     "name": "stderr",
     "output_type": "stream",
     "text": [
      "25/08/16 18:56:18 WARN RandomBlockReplicationPolicy: Expecting 1 replicas with only 0 peer/s.\n",
      "25/08/16 18:56:18 WARN BlockManager: Block input-0-1755363378400 replicated to only 0 peer(s) instead of 1 peers\n",
      "25/08/16 18:56:18 WARN RandomBlockReplicationPolicy: Expecting 1 replicas with only 0 peer/s.\n",
      "25/08/16 18:56:18 WARN BlockManager: Block input-0-1755363378600 replicated to only 0 peer(s) instead of 1 peers\n",
      "25/08/16 18:56:19 WARN RandomBlockReplicationPolicy: Expecting 1 replicas with only 0 peer/s.\n",
      "25/08/16 18:56:19 WARN BlockManager: Block input-0-1755363378800 replicated to only 0 peer(s) instead of 1 peers\n",
      "ERROR:root:Exception while sending command.                         (0 + 1) / 1]\n",
      "Traceback (most recent call last):\n",
      "  File \"/usr/local/spark/python/lib/py4j-0.10.9.3-src.zip/py4j/clientserver.py\", line 475, in send_command\n",
      "    answer = smart_decode(self.stream.readline()[:-1])\n",
      "RuntimeError: reentrant call inside <_io.BufferedReader name=59>\n",
      "\n",
      "During handling of the above exception, another exception occurred:\n",
      "\n",
      "Traceback (most recent call last):\n",
      "  File \"/usr/local/spark/python/lib/py4j-0.10.9.3-src.zip/py4j/java_gateway.py\", line 1038, in send_command\n",
      "    response = connection.send_command(command)\n",
      "  File \"/usr/local/spark/python/lib/py4j-0.10.9.3-src.zip/py4j/clientserver.py\", line 503, in send_command\n",
      "    raise Py4JNetworkError(\n",
      "py4j.protocol.Py4JNetworkError: Error while sending or receiving\n",
      "ERROR:root:Exception while sending command.\n",
      "Traceback (most recent call last):\n",
      "  File \"/usr/local/spark/python/lib/py4j-0.10.9.3-src.zip/py4j/clientserver.py\", line 475, in send_command\n",
      "    answer = smart_decode(self.stream.readline()[:-1])\n",
      "  File \"/usr/lib/python3.8/socket.py\", line 669, in readinto\n",
      "    return self._sock.recv_into(b)\n",
      "  File \"/usr/local/spark/python/pyspark/context.py\", line 292, in signal_handler\n",
      "    self.cancelAllJobs()\n",
      "  File \"/usr/local/spark/python/pyspark/context.py\", line 1195, in cancelAllJobs\n",
      "    self._jsc.sc().cancelAllJobs()\n",
      "  File \"/usr/local/spark/python/lib/py4j-0.10.9.3-src.zip/py4j/java_gateway.py\", line 1321, in __call__\n",
      "    return_value = get_return_value(\n",
      "  File \"/usr/local/spark/python/pyspark/sql/utils.py\", line 111, in deco\n",
      "    return f(*a, **kw)\n",
      "  File \"/usr/local/spark/python/lib/py4j-0.10.9.3-src.zip/py4j/protocol.py\", line 334, in get_return_value\n",
      "    raise Py4JError(\n",
      "py4j.protocol.Py4JError: An error occurred while calling o12.sc\n",
      "\n",
      "During handling of the above exception, another exception occurred:\n",
      "\n",
      "Traceback (most recent call last):\n",
      "  File \"/usr/local/spark/python/lib/py4j-0.10.9.3-src.zip/py4j/java_gateway.py\", line 1038, in send_command\n",
      "    response = connection.send_command(command)\n",
      "  File \"/usr/local/spark/python/lib/py4j-0.10.9.3-src.zip/py4j/clientserver.py\", line 503, in send_command\n",
      "    raise Py4JNetworkError(\n",
      "py4j.protocol.Py4JNetworkError: Error while sending or receiving\n",
      "                                                                                \r"
     ]
    },
    {
     "ename": "Py4JError",
     "evalue": "An error occurred while calling o23.awaitTermination",
     "output_type": "error",
     "traceback": [
      "\u001B[0;31m---------------------------------------------------------------------------\u001B[0m",
      "\u001B[0;31mPy4JError\u001B[0m                                 Traceback (most recent call last)",
      "Cell \u001B[0;32mIn[4], line 16\u001B[0m\n\u001B[1;32m     13\u001B[0m batch\u001B[38;5;241m.\u001B[39mforeachRDD(rdd_to_hdfs)\n\u001B[1;32m     15\u001B[0m ssc\u001B[38;5;241m.\u001B[39mstart()             \u001B[38;5;66;03m# Start the computation\u001B[39;00m\n\u001B[0;32m---> 16\u001B[0m \u001B[43mssc\u001B[49m\u001B[38;5;241;43m.\u001B[39;49m\u001B[43mawaitTermination\u001B[49m\u001B[43m(\u001B[49m\u001B[43m)\u001B[49m  \u001B[38;5;66;03m# Wait for the computation to terminate\u001B[39;00m\n",
      "File \u001B[0;32m/usr/local/spark/python/pyspark/streaming/context.py:200\u001B[0m, in \u001B[0;36mStreamingContext.awaitTermination\u001B[0;34m(self, timeout)\u001B[0m\n\u001B[1;32m    191\u001B[0m \u001B[38;5;250m\u001B[39m\u001B[38;5;124;03m\"\"\"\u001B[39;00m\n\u001B[1;32m    192\u001B[0m \u001B[38;5;124;03mWait for the execution to stop.\u001B[39;00m\n\u001B[1;32m    193\u001B[0m \n\u001B[0;32m   (...)\u001B[0m\n\u001B[1;32m    197\u001B[0m \u001B[38;5;124;03m    time to wait in seconds\u001B[39;00m\n\u001B[1;32m    198\u001B[0m \u001B[38;5;124;03m\"\"\"\u001B[39;00m\n\u001B[1;32m    199\u001B[0m \u001B[38;5;28;01mif\u001B[39;00m timeout \u001B[38;5;129;01mis\u001B[39;00m \u001B[38;5;28;01mNone\u001B[39;00m:\n\u001B[0;32m--> 200\u001B[0m     \u001B[38;5;28;43mself\u001B[39;49m\u001B[38;5;241;43m.\u001B[39;49m\u001B[43m_jssc\u001B[49m\u001B[38;5;241;43m.\u001B[39;49m\u001B[43mawaitTermination\u001B[49m\u001B[43m(\u001B[49m\u001B[43m)\u001B[49m\n\u001B[1;32m    201\u001B[0m \u001B[38;5;28;01melse\u001B[39;00m:\n\u001B[1;32m    202\u001B[0m     \u001B[38;5;28mself\u001B[39m\u001B[38;5;241m.\u001B[39m_jssc\u001B[38;5;241m.\u001B[39mawaitTerminationOrTimeout(\u001B[38;5;28mint\u001B[39m(timeout \u001B[38;5;241m*\u001B[39m \u001B[38;5;241m1000\u001B[39m))\n",
      "File \u001B[0;32m/usr/local/spark/python/lib/py4j-0.10.9.3-src.zip/py4j/java_gateway.py:1321\u001B[0m, in \u001B[0;36mJavaMember.__call__\u001B[0;34m(self, *args)\u001B[0m\n\u001B[1;32m   1315\u001B[0m command \u001B[38;5;241m=\u001B[39m proto\u001B[38;5;241m.\u001B[39mCALL_COMMAND_NAME \u001B[38;5;241m+\u001B[39m\\\n\u001B[1;32m   1316\u001B[0m     \u001B[38;5;28mself\u001B[39m\u001B[38;5;241m.\u001B[39mcommand_header \u001B[38;5;241m+\u001B[39m\\\n\u001B[1;32m   1317\u001B[0m     args_command \u001B[38;5;241m+\u001B[39m\\\n\u001B[1;32m   1318\u001B[0m     proto\u001B[38;5;241m.\u001B[39mEND_COMMAND_PART\n\u001B[1;32m   1320\u001B[0m answer \u001B[38;5;241m=\u001B[39m \u001B[38;5;28mself\u001B[39m\u001B[38;5;241m.\u001B[39mgateway_client\u001B[38;5;241m.\u001B[39msend_command(command)\n\u001B[0;32m-> 1321\u001B[0m return_value \u001B[38;5;241m=\u001B[39m \u001B[43mget_return_value\u001B[49m\u001B[43m(\u001B[49m\n\u001B[1;32m   1322\u001B[0m \u001B[43m    \u001B[49m\u001B[43manswer\u001B[49m\u001B[43m,\u001B[49m\u001B[43m \u001B[49m\u001B[38;5;28;43mself\u001B[39;49m\u001B[38;5;241;43m.\u001B[39;49m\u001B[43mgateway_client\u001B[49m\u001B[43m,\u001B[49m\u001B[43m \u001B[49m\u001B[38;5;28;43mself\u001B[39;49m\u001B[38;5;241;43m.\u001B[39;49m\u001B[43mtarget_id\u001B[49m\u001B[43m,\u001B[49m\u001B[43m \u001B[49m\u001B[38;5;28;43mself\u001B[39;49m\u001B[38;5;241;43m.\u001B[39;49m\u001B[43mname\u001B[49m\u001B[43m)\u001B[49m\n\u001B[1;32m   1324\u001B[0m \u001B[38;5;28;01mfor\u001B[39;00m temp_arg \u001B[38;5;129;01min\u001B[39;00m temp_args:\n\u001B[1;32m   1325\u001B[0m     temp_arg\u001B[38;5;241m.\u001B[39m_detach()\n",
      "File \u001B[0;32m/usr/local/spark/python/pyspark/sql/utils.py:111\u001B[0m, in \u001B[0;36mcapture_sql_exception.<locals>.deco\u001B[0;34m(*a, **kw)\u001B[0m\n\u001B[1;32m    109\u001B[0m \u001B[38;5;28;01mdef\u001B[39;00m\u001B[38;5;250m \u001B[39m\u001B[38;5;21mdeco\u001B[39m(\u001B[38;5;241m*\u001B[39ma, \u001B[38;5;241m*\u001B[39m\u001B[38;5;241m*\u001B[39mkw):\n\u001B[1;32m    110\u001B[0m     \u001B[38;5;28;01mtry\u001B[39;00m:\n\u001B[0;32m--> 111\u001B[0m         \u001B[38;5;28;01mreturn\u001B[39;00m \u001B[43mf\u001B[49m\u001B[43m(\u001B[49m\u001B[38;5;241;43m*\u001B[39;49m\u001B[43ma\u001B[49m\u001B[43m,\u001B[49m\u001B[43m \u001B[49m\u001B[38;5;241;43m*\u001B[39;49m\u001B[38;5;241;43m*\u001B[39;49m\u001B[43mkw\u001B[49m\u001B[43m)\u001B[49m\n\u001B[1;32m    112\u001B[0m     \u001B[38;5;28;01mexcept\u001B[39;00m py4j\u001B[38;5;241m.\u001B[39mprotocol\u001B[38;5;241m.\u001B[39mPy4JJavaError \u001B[38;5;28;01mas\u001B[39;00m e:\n\u001B[1;32m    113\u001B[0m         converted \u001B[38;5;241m=\u001B[39m convert_exception(e\u001B[38;5;241m.\u001B[39mjava_exception)\n",
      "File \u001B[0;32m/usr/local/spark/python/lib/py4j-0.10.9.3-src.zip/py4j/protocol.py:334\u001B[0m, in \u001B[0;36mget_return_value\u001B[0;34m(answer, gateway_client, target_id, name)\u001B[0m\n\u001B[1;32m    330\u001B[0m             \u001B[38;5;28;01mraise\u001B[39;00m Py4JError(\n\u001B[1;32m    331\u001B[0m                 \u001B[38;5;124m\"\u001B[39m\u001B[38;5;124mAn error occurred while calling \u001B[39m\u001B[38;5;132;01m{0}\u001B[39;00m\u001B[38;5;132;01m{1}\u001B[39;00m\u001B[38;5;132;01m{2}\u001B[39;00m\u001B[38;5;124m. Trace:\u001B[39m\u001B[38;5;130;01m\\n\u001B[39;00m\u001B[38;5;132;01m{3}\u001B[39;00m\u001B[38;5;130;01m\\n\u001B[39;00m\u001B[38;5;124m\"\u001B[39m\u001B[38;5;241m.\u001B[39m\n\u001B[1;32m    332\u001B[0m                 \u001B[38;5;28mformat\u001B[39m(target_id, \u001B[38;5;124m\"\u001B[39m\u001B[38;5;124m.\u001B[39m\u001B[38;5;124m\"\u001B[39m, name, value))\n\u001B[1;32m    333\u001B[0m     \u001B[38;5;28;01melse\u001B[39;00m:\n\u001B[0;32m--> 334\u001B[0m         \u001B[38;5;28;01mraise\u001B[39;00m Py4JError(\n\u001B[1;32m    335\u001B[0m             \u001B[38;5;124m\"\u001B[39m\u001B[38;5;124mAn error occurred while calling \u001B[39m\u001B[38;5;132;01m{0}\u001B[39;00m\u001B[38;5;132;01m{1}\u001B[39;00m\u001B[38;5;132;01m{2}\u001B[39;00m\u001B[38;5;124m\"\u001B[39m\u001B[38;5;241m.\u001B[39m\n\u001B[1;32m    336\u001B[0m             \u001B[38;5;28mformat\u001B[39m(target_id, \u001B[38;5;124m\"\u001B[39m\u001B[38;5;124m.\u001B[39m\u001B[38;5;124m\"\u001B[39m, name))\n\u001B[1;32m    337\u001B[0m \u001B[38;5;28;01melse\u001B[39;00m:\n\u001B[1;32m    338\u001B[0m     \u001B[38;5;28mtype\u001B[39m \u001B[38;5;241m=\u001B[39m answer[\u001B[38;5;241m1\u001B[39m]\n",
      "\u001B[0;31mPy4JError\u001B[0m: An error occurred while calling o23.awaitTermination"
     ]
    },
    {
     "name": "stdout",
     "output_type": "stream",
     "text": [
      "+--------+--------------------+--------------------+-------+-------------+----------------+------+------+--------+-------+------------+--------------------+\n",
      "|       a|                   b|                   c|      d|            e|               f|     g|     h|       i|      j|           k|                   l|\n",
      "+--------+--------------------+--------------------+-------+-------------+----------------+------+------+--------+-------+------------+--------------------+\n",
      "|[\"['244'| 'The Puffin Book...|     'Quentin Blake'| '4.02'| '0140366601'| '9780140366600'| 'eng'| '287'|    '81'|    '6'| '10/3/1996'|         'Puffin']\"]|\n",
      "|[\"['245'| 'Henry Miller on...| 'Henry Miller/Th...| '4.22'| '0811201120'| '9780811201124'| 'eng'| '217'|   '981'|   '52'|  '2/1/1964'| 'New Directions ...|\n",
      "|[\"['247'| 'Quiet Days in C...|      'Henry Miller'| '3.69'| '080213016X'| '9780802130167'| 'eng'| '154'|  '3381'|  '141'| '1/13/1994'|    'Grove Press']\"]|\n",
      "|[\"['249'|  'Tropic of Cancer'| 'Henry Miller/Ji...| '3.68'| '0802131786'| '9780802131782'| 'eng'| '318'| '53206'| '2376'|  '1/6/1994'|    'Grove Press']\"]|\n",
      "|[\"['250'| 'Tropic of Capri...|      'Henry Miller'| '3.78'| '0802151825'| '9780802151827'| 'eng'| '348'| '14872'|  '459'| '1/13/1994'|    'Grove Press']\"]|\n",
      "|[\"['251'| 'Nexus (The Rosy...|      'Henry Miller'| '4.10'| '0802151787'| '9780802151780'| 'eng'| '316'|  '3261'|   '58'| '1/13/1994'|    'Grove Press']\"]|\n",
      "|[\"['252'| 'Sexus (The Rosy...|      'Henry Miller'| '3.98'| '0802151809'| '9780802151803'| 'eng'| '506'|  '7805'|  '251'| '1/12/1994'|    'Grove Press']\"]|\n",
      "+--------+--------------------+--------------------+-------+-------------+----------------+------+------+--------+-------+------------+--------------------+\n",
      "\n"
     ]
    }
   ],
   "execution_count": 4
  },
  {
   "metadata": {},
   "cell_type": "code",
   "source": "sc.stop()",
   "id": "7abbaccf68599e81",
   "outputs": [],
   "execution_count": null
  }
 ],
 "metadata": {
  "kernelspec": {
   "display_name": "Python 3",
   "language": "python",
   "name": "python3"
  },
  "language_info": {
   "codemirror_mode": {
    "name": "ipython",
    "version": 2
   },
   "file_extension": ".py",
   "mimetype": "text/x-python",
   "name": "python",
   "nbconvert_exporter": "python",
   "pygments_lexer": "ipython2",
   "version": "2.7.6"
  }
 },
 "nbformat": 4,
 "nbformat_minor": 5
}
