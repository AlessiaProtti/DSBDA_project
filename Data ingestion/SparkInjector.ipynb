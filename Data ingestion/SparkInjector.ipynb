{
 "cells": [
  {
   "cell_type": "code",
   "id": "initial_id",
   "metadata": {
    "collapsed": true
   },
   "source": [
    "import findspark\n",
    "findspark.init()"
   ],
   "outputs": [],
   "execution_count": null
  },
  {
   "metadata": {},
   "cell_type": "code",
   "source": [
    "from pyspark import SparkContext\n",
    "from pyspark.streaming import StreamingContext\n",
    "from pyspark.sql import SparkSession\n",
    "import re"
   ],
   "id": "efda47df15c72903",
   "outputs": [],
   "execution_count": null
  },
  {
   "metadata": {},
   "cell_type": "code",
   "source": [
    "def rdd_to_hdfs(rdd):\n",
    "  if not rdd.isEmpty():\n",
    "    spark=SparkSession.builder.appName(\"App\").getOrCreate()\n",
    "    #l=[]\n",
    "\n",
    "    lst=rdd.collect()\n",
    "    hdfs_path=\"hdfs://localhost:54310/user/ubuntu/datasets\"\n",
    "\n",
    "    #Each line is stored separately due to possible inconsistencies on number of fields\n",
    "    for s in lst:\n",
    "      #l.append(str(s).split(\",\"))\n",
    "\n",
    "      # converting to list because It needs to be iterable\n",
    "      l=[str(s).split(\"/t\")]\n",
    "      # l=[]\n",
    "      # modified_s=re.sub(r\"''+\", \"' '\", str(s))\n",
    "      # for field in re.findall(r\"'.+?'|\\w+\", modified_s):\n",
    "      #   l.append(field)\n",
    "\n",
    "      #print(s)\n",
    "      #print(l)\n",
    "      #print(len(l))\n",
    "\n",
    "      schema=\"\"\n",
    "      for i in range(len(l)):\n",
    "        schema=schema+(chr(ord('`')+(i+1)))+\" string, \"\n",
    "\n",
    "      schema=schema[0:len(schema)-2]\n",
    "      #print(schema)\n",
    "\n",
    "      try:\n",
    "        df=spark.createDataFrame(l, schema=schema)\n",
    "        df.write.csv(hdfs_path, mode=\"append\", header=False)\n",
    "      except Exception as e:\n",
    "        pass\n",
    "\n",
    "    # schema=\"\"\n",
    "    # for i in range(len(l[0])):\n",
    "    #   schema=schema+(chr(ord('`')+(i+1)))+\" string, \"\n",
    "    #\n",
    "    # schema=schema[0:len(schema)-2]\n",
    "    #\n",
    "    # df=spark.createDataFrame(l, schema=schema)\n",
    "    # #df.show()\n",
    "    #\n",
    "    # hdfs_path=\"hdfs://localhost:54310/user/ubuntu/datasets\"\n",
    "    # df.write.csv(hdfs_path, mode=\"append\", header=False)"
   ],
   "id": "f0420f0083574327",
   "outputs": [],
   "execution_count": null
  },
  {
   "metadata": {},
   "cell_type": "code",
   "source": [
    "# Create a local StreamingContext with two working thread and batch interval of 1 second\n",
    "sc = SparkContext(\"local[2]\")\n",
    "sc.setLogLevel(\"ERROR\")\n",
    "ssc = StreamingContext(sc, 1)\n",
    "\n",
    "# Create a DStream that will connect to hostname:port, like localhost:9999\n",
    "lines = ssc.socketTextStream(\"localhost\", 9999)\n",
    "\n",
    "batch=lines.map(lambda line: line.split(\"\\n\"))\n",
    "\n",
    "batch.foreachRDD(rdd_to_hdfs)\n",
    "\n",
    "ssc.start()             # Start the computation\n",
    "ssc.awaitTermination()  # Wait for the computation to terminate"
   ],
   "id": "29dd037f1bc604c1",
   "outputs": [],
   "execution_count": null
  },
  {
   "metadata": {},
   "cell_type": "code",
   "source": "sc.stop()",
   "id": "7abbaccf68599e81",
   "outputs": [],
   "execution_count": null
  }
 ],
 "metadata": {
  "kernelspec": {
   "display_name": "Python 3",
   "language": "python",
   "name": "python3"
  },
  "language_info": {
   "codemirror_mode": {
    "name": "ipython",
    "version": 2
   },
   "file_extension": ".py",
   "mimetype": "text/x-python",
   "name": "python",
   "nbconvert_exporter": "python",
   "pygments_lexer": "ipython2",
   "version": "2.7.6"
  }
 },
 "nbformat": 4,
 "nbformat_minor": 5
}
