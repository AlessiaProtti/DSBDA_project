{
 "cells": [
  {
   "metadata": {
    "ExecuteTime": {
     "end_time": "2025-08-20T11:25:41.731532Z",
     "start_time": "2025-08-20T11:25:41.725785Z"
    }
   },
   "cell_type": "code",
   "source": [
    "import socket\n",
    "import time\n",
    "import csv\n",
    "import random"
   ],
   "id": "9c962303e2fe5e01",
   "outputs": [],
   "execution_count": 1
  },
  {
   "metadata": {
    "ExecuteTime": {
     "end_time": "2025-08-20T11:25:41.744700Z",
     "start_time": "2025-08-20T11:25:41.736796Z"
    }
   },
   "cell_type": "code",
   "source": [
    "#API_dataset_csv_path = \"/home/ubuntu/jupyter/Datasets/goodreads_API_dataset.csv\"\n",
    "#scraped_dataset_csv_path = \"/home/ubuntu/jupyter/Datasets/goodreads_scraped_dataset.csv\"\n",
    "\n",
    "API_dataset_tsv_path = \"/home/ubuntu/jupyter/Datasets/goodreads_API_dataset.tsv\"\n",
    "scraped_dataset_tsv_path = \"/home/ubuntu/jupyter/Datasets/goodreads_scraped_dataset.tsv\"\n",
    "\n",
    "## here i collect all the paths\n",
    "dataset_paths = [API_dataset_tsv_path, scraped_dataset_tsv_path]\n",
    "#dataset_paths = [scraped_dataset_tsv_path]"
   ],
   "id": "52cf0647aafd12d5",
   "outputs": [],
   "execution_count": 2
  },
  {
   "metadata": {
    "ExecuteTime": {
     "end_time": "2025-08-20T11:25:41.759531Z",
     "start_time": "2025-08-20T11:25:41.750388Z"
    }
   },
   "cell_type": "code",
   "source": "PRINT_FREQUENCY=1000",
   "id": "f99e79f89e0ff651",
   "outputs": [],
   "execution_count": 3
  },
  {
   "metadata": {
    "collapsed": true,
    "ExecuteTime": {
     "end_time": "2025-08-20T11:25:41.773162Z",
     "start_time": "2025-08-20T11:25:41.766225Z"
    }
   },
   "cell_type": "code",
   "source": [
    "# this function is responsible to write the dataset on the socket line by line so that spark\n",
    "# reads it on the other end.\n",
    "# the line is a touple from a randoom table\n",
    "\n",
    "def sendData(connection, dataset):\n",
    "\n",
    "    print(\"Start sending data\")\n",
    "    count = 0\n",
    "\n",
    "    # Open file\n",
    "    with open(dataset, encoding=\"utf-8\", errors=\"ignore\") as file_obj:\n",
    "        # Create reader object by passing the file\n",
    "        # object to reader method\n",
    "\n",
    "        heading=next(file_obj)\n",
    "\n",
    "        reader_obj = csv.reader(file_obj, delimiter=\"\\t\")\n",
    "\n",
    "        # Iterate over each row in the csv\n",
    "        # file using reader object\n",
    "        for line in reader_obj:\n",
    "            try:\n",
    "                #print(line)\n",
    "                line_string = f'{str(line)}\\n'\n",
    "                byte_message = line_string.encode(encoding='utf-8', errors='ignore')\n",
    "                #print(f'Debug byte_message {byte_message}')\n",
    "                connection.sendall(byte_message)\n",
    "                time.sleep(random.uniform(0, 0.5))  # Aggiungi un delay per non sovraccaricare il ricevitore\n",
    "\n",
    "                if count % PRINT_FREQUENCY == 0:\n",
    "                  print(\"Sent:\", line_string)\n",
    "                count += 1\n",
    "            except Exception as e:\n",
    "                print(\"Error sending data:\", e)\n",
    "                break"
   ],
   "id": "a58f48c6b74363ea",
   "outputs": [],
   "execution_count": 4
  },
  {
   "metadata": {
    "jupyter": {
     "is_executing": true
    },
    "ExecuteTime": {
     "start_time": "2025-08-20T11:25:41.779732Z"
    }
   },
   "cell_type": "code",
   "source": [
    "host = \"localhost\"\n",
    "port = 9999\n",
    "s = socket.socket(socket.AF_INET, socket.SOCK_STREAM)\n",
    "s.bind((host, port))\n",
    "s.listen(5)\n",
    "print(\"Server is listening on\", port)\n",
    "\n",
    "try:\n",
    "  connection, addr = s.accept()\n",
    "  print(\"Connected by\", addr)\n",
    "\n",
    "  for path in dataset_paths:\n",
    "    sendData(connection, path)\n",
    "except Exception as e:\n",
    "  print(\"Connection error:\", e)\n",
    "finally:\n",
    "  connection.close()"
   ],
   "id": "4381caf78115d0fb",
   "outputs": [
    {
     "name": "stdout",
     "output_type": "stream",
     "text": [
      "Server is listening on 9999\n"
     ]
    }
   ],
   "execution_count": null
  },
  {
   "metadata": {
    "ExecuteTime": {
     "end_time": "2025-08-20T11:22:59.726195Z",
     "start_time": "2025-08-20T11:22:59.723084Z"
    }
   },
   "cell_type": "code",
   "source": "",
   "id": "d9303f31e978a65",
   "outputs": [],
   "execution_count": null
  }
 ],
 "metadata": {
  "kernelspec": {
   "display_name": "Python 3",
   "language": "python",
   "name": "python3"
  },
  "language_info": {
   "codemirror_mode": {
    "name": "ipython",
    "version": 2
   },
   "file_extension": ".py",
   "mimetype": "text/x-python",
   "name": "python",
   "nbconvert_exporter": "python",
   "pygments_lexer": "ipython2",
   "version": "2.7.6"
  }
 },
 "nbformat": 4,
 "nbformat_minor": 5
}
