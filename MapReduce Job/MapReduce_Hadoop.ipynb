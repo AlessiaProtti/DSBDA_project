{
 "cells": [
  {
   "metadata": {},
   "cell_type": "code",
   "source": [
    "#mapper = '/home/ubuntu/jupyter/MapReduce/mapper.py'\n",
    "mapper = '/home/ubuntu/jupyter/MapReduce/mapper.py'\n",
    "reducer = '/home/ubuntu/jupyter/MapReduce/reducer.py'\n",
    "\n",
    "dataset = '/user/ubuntu/dataset/'\n",
    "\n",
    "out_dataset = '/user/ubuntu/map_reduce_out/'\n",
    "\n",
    "streaming_jar = '/usr/local/hadoop/share/hadoop/tools/lib/hadoop-streaming-2.10.0.jar'\n",
    "\n",
    "# Delete any old join MapReduce job output, if necessary\n",
    "!hadoop fs -rm -r $out_dataset\n",
    "\n",
    "# Execute the actual join MapReduce job\n",
    "!hadoop jar $streaming_jar -files $mapper,$reducer -mapper $mapper -reducer $reducer -input $dataset -output $out_dataset"
   ],
   "id": "be0ed480c5d7680b",
   "outputs": [],
   "execution_count": null
  },
  {
   "metadata": {},
   "cell_type": "code",
   "source": "",
   "id": "439c6417a9a62747",
   "outputs": [],
   "execution_count": null
  }
 ],
 "metadata": {
  "kernelspec": {
   "display_name": "Python 3",
   "language": "python",
   "name": "python3"
  },
  "language_info": {
   "codemirror_mode": {
    "name": "ipython",
    "version": 2
   },
   "file_extension": ".py",
   "mimetype": "text/x-python",
   "name": "python",
   "nbconvert_exporter": "python",
   "pygments_lexer": "ipython2",
   "version": "2.7.6"
  }
 },
 "nbformat": 4,
 "nbformat_minor": 5
}
